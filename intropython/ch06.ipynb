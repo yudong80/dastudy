{
 "cells": [
  {
   "cell_type": "code",
   "execution_count": 1,
   "metadata": {},
   "outputs": [
    {
     "name": "stdout",
     "output_type": "stream",
     "text": [
      "<class '__main__.Thing'>\n",
      "<__main__.Thing object at 0x0634D670>\n"
     ]
    }
   ],
   "source": [
    "#6.1\n",
    "class Thing: \n",
    "    pass \n",
    "\n",
    "example = Thing()\n",
    "\n",
    "print(Thing)  #클래스 \n",
    "print(example) #객체 "
   ]
  },
  {
   "cell_type": "code",
   "execution_count": 5,
   "metadata": {},
   "outputs": [
    {
     "name": "stdout",
     "output_type": "stream",
     "text": [
      "abc\n"
     ]
    }
   ],
   "source": [
    "#6.2 \n",
    "class Thing2: \n",
    "    def __init__(self, lts): \n",
    "        self.letters = lts\n",
    "        \n",
    "o = Thing2('abc')\n",
    "print(o.letters)"
   ]
  },
  {
   "cell_type": "code",
   "execution_count": 7,
   "metadata": {},
   "outputs": [
    {
     "name": "stdout",
     "output_type": "stream",
     "text": [
      "xyz\n"
     ]
    }
   ],
   "source": [
    "#6.3 \n",
    "class Thing3: \n",
    "    def __init__(self, lts): \n",
    "        self.letters = lts \n",
    "\n",
    "o = Thing3('xyz')\n",
    "print(o.letters)"
   ]
  },
  {
   "cell_type": "code",
   "execution_count": 9,
   "metadata": {},
   "outputs": [
    {
     "name": "stdout",
     "output_type": "stream",
     "text": [
      "Hydrogen\n"
     ]
    }
   ],
   "source": [
    "#6.4 \n",
    "class Element: \n",
    "    def __init__(self, name, symbol, number):\n",
    "        self.name = name\n",
    "        self.symbol = symbol\n",
    "        self.number = number\n",
    "\n",
    "o = Element('Hydrogen','H',1)\n",
    "print(o.name)"
   ]
  },
  {
   "cell_type": "code",
   "execution_count": 10,
   "metadata": {},
   "outputs": [
    {
     "name": "stdout",
     "output_type": "stream",
     "text": [
      "Hydrogen\n"
     ]
    }
   ],
   "source": [
    "#6.5 \n",
    "el_dict = {'name':'Hydrogen', 'symbol':'H', 'number':1}\n",
    "\n",
    "class Element: \n",
    "    def __init__(self, dct):\n",
    "        self.name = dct['name']\n",
    "        self.symbol = dct['symbol']\n",
    "        self.number = dct['number']\n",
    "        \n",
    "o = Element(el_dict)\n",
    "print(o.name)"
   ]
  },
  {
   "cell_type": "code",
   "execution_count": 19,
   "metadata": {},
   "outputs": [
    {
     "name": "stdout",
     "output_type": "stream",
     "text": [
      "name:Hydrogen symbol:H number:1\n"
     ]
    }
   ],
   "source": [
    "#6.6 \n",
    "class Element: \n",
    "    def __init__(self, dct):\n",
    "        self.name = dct['name']\n",
    "        self.symbol = dct['symbol']\n",
    "        self.number = dct['number']\n",
    "        \n",
    "    def dump(self):\n",
    "        return 'name:'+ self.name+ ' symbol:'+ self.symbol+ ' number:'+ str(self.number)\n",
    "\n",
    "hydrogen = Element(el_dict)\n",
    "print(hydrogen.dump())"
   ]
  },
  {
   "cell_type": "code",
   "execution_count": 22,
   "metadata": {},
   "outputs": [
    {
     "name": "stdout",
     "output_type": "stream",
     "text": [
      "name:Hydrogen symbol:H number:1\n"
     ]
    }
   ],
   "source": [
    "#6.7 \n",
    "class Element: \n",
    "    def __init__(self, dct):\n",
    "        self.name = dct['name']\n",
    "        self.symbol = dct['symbol']\n",
    "        self.number = dct['number']\n",
    "        \n",
    "    def __str__(self):\n",
    "        return 'name:'+ self.name+ ' symbol:'+ self.symbol+ ' number:'+ str(self.number)\n",
    "\n",
    "hydrogen = Element(el_dict)    \n",
    "print(hydrogen)"
   ]
  },
  {
   "cell_type": "code",
   "execution_count": 26,
   "metadata": {},
   "outputs": [
    {
     "name": "stdout",
     "output_type": "stream",
     "text": [
      "Hydrogen\n"
     ]
    }
   ],
   "source": [
    "#6.8 \n",
    "class Element: \n",
    "    def __init__(self, dct):\n",
    "        self.__name = dct['name']\n",
    "        self.__symbol = dct['symbol']\n",
    "        self.__number = dct['number']\n",
    "        \n",
    "    def __str__(self):\n",
    "        return 'name:'+ self.name+ ' symbol:'+ self.symbol+ ' number:'+ str(self.number)\n",
    "\n",
    "    @property\n",
    "    def name(self):\n",
    "        return self.__name\n",
    "    \n",
    "    @property\n",
    "    def symbol(self):\n",
    "        return self.__symbol\n",
    "    \n",
    "    @property\n",
    "    def number(self):\n",
    "        return self.__number\n",
    "    \n",
    "    \n",
    "hydrogen = Element(el_dict)   \n",
    "print(hydrogen.name)"
   ]
  },
  {
   "cell_type": "code",
   "execution_count": 28,
   "metadata": {},
   "outputs": [
    {
     "name": "stdout",
     "output_type": "stream",
     "text": [
      "berries\n",
      "clover\n",
      "campers\n"
     ]
    }
   ],
   "source": [
    "#6.9 \n",
    "class Bear:\n",
    "    def eats(self):\n",
    "        return 'berries'\n",
    "    \n",
    "class Rabbit:\n",
    "    def eats(self):\n",
    "        return 'clover'\n",
    "    \n",
    "class Octothorpe:\n",
    "    def eats(self):\n",
    "        return 'campers'\n",
    "    \n",
    "o1 = Bear()\n",
    "o2 = Rabbit()\n",
    "o3 = Octothorpe()\n",
    "\n",
    "print(o1.eats())\n",
    "print(o2.eats())\n",
    "print(o3.eats())"
   ]
  },
  {
   "cell_type": "code",
   "execution_count": 41,
   "metadata": {},
   "outputs": [
    {
     "data": {
      "text/plain": [
       "'disintegrate'"
      ]
     },
     "execution_count": 41,
     "metadata": {},
     "output_type": "execute_result"
    }
   ],
   "source": [
    "#6.10 \n",
    "class Laser:\n",
    "    def does(self):\n",
    "        return 'disintegrate'\n",
    "    \n",
    "class Claw:\n",
    "    def does(self):\n",
    "        return 'crush'\n",
    "    \n",
    "class SmartPhone:\n",
    "    def does(self):\n",
    "        return 'ring'\n",
    "    \n",
    "class Robot: \n",
    "    def __init__(self):\n",
    "        self.laser = Laser()\n",
    "        self.claw = Claw()\n",
    "        self.smartphone = SmartPhone()        \n",
    "    def does(self):\n",
    "        print(self.laser.does())\n",
    "        print(self.claw.does())\n",
    "        print(self.smartPhone.does())\n",
    "\n",
    "rbt = Robot()\n",
    "rbt.laser.does()"
   ]
  }
 ],
 "metadata": {
  "kernelspec": {
   "display_name": "Python 3",
   "language": "python",
   "name": "python3"
  },
  "language_info": {
   "codemirror_mode": {
    "name": "ipython",
    "version": 3
   },
   "file_extension": ".py",
   "mimetype": "text/x-python",
   "name": "python",
   "nbconvert_exporter": "python",
   "pygments_lexer": "ipython3",
   "version": "3.6.4"
  }
 },
 "nbformat": 4,
 "nbformat_minor": 2
}
