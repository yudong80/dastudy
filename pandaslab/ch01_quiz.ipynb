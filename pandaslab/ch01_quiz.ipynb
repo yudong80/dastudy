{
 "cells": [
  {
   "cell_type": "markdown",
   "metadata": {},
   "source": [
    "# Pandas Lab #1 \n",
    "\n",
    "2018.7.2\n",
    "\n",
    "### 문제출제: 이수호님 (Suho Lee)\n",
    "\n",
    "### movie.csv 파일 출처: \"Pandas Cookbook\" (에이콘출판사, 2018) "
   ]
  },
  {
   "cell_type": "markdown",
   "metadata": {},
   "source": [
    "## 1. movie.csv 파일을 movie라는 이름의 DataFrame으로 변환하세요."
   ]
  },
  {
   "cell_type": "code",
   "execution_count": 51,
   "metadata": {},
   "outputs": [],
   "source": [
    "import pandas as pd\n",
    "import numpy as np\n",
    "import matplotlib.pyplot as plt "
   ]
  },
  {
   "cell_type": "code",
   "execution_count": 59,
   "metadata": {},
   "outputs": [],
   "source": [
    "movie = pd.read_csv('movie.csv')"
   ]
  },
  {
   "cell_type": "markdown",
   "metadata": {},
   "source": [
    "## 2. movie df의 columns을 모두 출력하세요."
   ]
  },
  {
   "cell_type": "code",
   "execution_count": 60,
   "metadata": {},
   "outputs": [
    {
     "name": "stdout",
     "output_type": "stream",
     "text": [
      "<class 'pandas.core.frame.DataFrame'>\n",
      "RangeIndex: 4916 entries, 0 to 4915\n",
      "Data columns (total 28 columns):\n",
      "color                        4897 non-null object\n",
      "director_name                4814 non-null object\n",
      "num_critic_for_reviews       4867 non-null float64\n",
      "duration                     4901 non-null float64\n",
      "director_facebook_likes      4814 non-null float64\n",
      "actor_3_facebook_likes       4893 non-null float64\n",
      "actor_2_name                 4903 non-null object\n",
      "actor_1_facebook_likes       4909 non-null float64\n",
      "gross                        4054 non-null float64\n",
      "genres                       4916 non-null object\n",
      "actor_1_name                 4909 non-null object\n",
      "movie_title                  4916 non-null object\n",
      "num_voted_users              4916 non-null int64\n",
      "cast_total_facebook_likes    4916 non-null int64\n",
      "actor_3_name                 4893 non-null object\n",
      "facenumber_in_poster         4903 non-null float64\n",
      "plot_keywords                4764 non-null object\n",
      "movie_imdb_link              4916 non-null object\n",
      "num_user_for_reviews         4895 non-null float64\n",
      "language                     4904 non-null object\n",
      "country                      4911 non-null object\n",
      "content_rating               4616 non-null object\n",
      "budget                       4432 non-null float64\n",
      "title_year                   4810 non-null float64\n",
      "actor_2_facebook_likes       4903 non-null float64\n",
      "imdb_score                   4916 non-null float64\n",
      "aspect_ratio                 4590 non-null float64\n",
      "movie_facebook_likes         4916 non-null int64\n",
      "dtypes: float64(13), int64(3), object(12)\n",
      "memory usage: 845.0+ KB\n"
     ]
    }
   ],
   "source": [
    "movie.info()"
   ]
  },
  {
   "cell_type": "markdown",
   "metadata": {},
   "source": [
    "## 3. movie_title column을 movie의 index로 설정하세요."
   ]
  },
  {
   "cell_type": "code",
   "execution_count": 61,
   "metadata": {},
   "outputs": [
    {
     "data": {
      "text/html": [
       "<div>\n",
       "<style scoped>\n",
       "    .dataframe tbody tr th:only-of-type {\n",
       "        vertical-align: middle;\n",
       "    }\n",
       "\n",
       "    .dataframe tbody tr th {\n",
       "        vertical-align: top;\n",
       "    }\n",
       "\n",
       "    .dataframe thead th {\n",
       "        text-align: right;\n",
       "    }\n",
       "</style>\n",
       "<table border=\"1\" class=\"dataframe\">\n",
       "  <thead>\n",
       "    <tr style=\"text-align: right;\">\n",
       "      <th></th>\n",
       "      <th>color</th>\n",
       "      <th>director_name</th>\n",
       "      <th>num_critic_for_reviews</th>\n",
       "      <th>duration</th>\n",
       "      <th>director_facebook_likes</th>\n",
       "      <th>actor_3_facebook_likes</th>\n",
       "      <th>actor_2_name</th>\n",
       "      <th>actor_1_facebook_likes</th>\n",
       "      <th>gross</th>\n",
       "      <th>genres</th>\n",
       "      <th>...</th>\n",
       "      <th>num_user_for_reviews</th>\n",
       "      <th>language</th>\n",
       "      <th>country</th>\n",
       "      <th>content_rating</th>\n",
       "      <th>budget</th>\n",
       "      <th>title_year</th>\n",
       "      <th>actor_2_facebook_likes</th>\n",
       "      <th>imdb_score</th>\n",
       "      <th>aspect_ratio</th>\n",
       "      <th>movie_facebook_likes</th>\n",
       "    </tr>\n",
       "  </thead>\n",
       "  <tbody>\n",
       "    <tr>\n",
       "      <th>0</th>\n",
       "      <td>Color</td>\n",
       "      <td>James Cameron</td>\n",
       "      <td>723.0</td>\n",
       "      <td>178.0</td>\n",
       "      <td>0.0</td>\n",
       "      <td>855.0</td>\n",
       "      <td>Joel David Moore</td>\n",
       "      <td>1000.0</td>\n",
       "      <td>760505847.0</td>\n",
       "      <td>Action|Adventure|Fantasy|Sci-Fi</td>\n",
       "      <td>...</td>\n",
       "      <td>3054.0</td>\n",
       "      <td>English</td>\n",
       "      <td>USA</td>\n",
       "      <td>PG-13</td>\n",
       "      <td>237000000.0</td>\n",
       "      <td>2009.0</td>\n",
       "      <td>936.0</td>\n",
       "      <td>7.9</td>\n",
       "      <td>1.78</td>\n",
       "      <td>33000</td>\n",
       "    </tr>\n",
       "    <tr>\n",
       "      <th>1</th>\n",
       "      <td>Color</td>\n",
       "      <td>Gore Verbinski</td>\n",
       "      <td>302.0</td>\n",
       "      <td>169.0</td>\n",
       "      <td>563.0</td>\n",
       "      <td>1000.0</td>\n",
       "      <td>Orlando Bloom</td>\n",
       "      <td>40000.0</td>\n",
       "      <td>309404152.0</td>\n",
       "      <td>Action|Adventure|Fantasy</td>\n",
       "      <td>...</td>\n",
       "      <td>1238.0</td>\n",
       "      <td>English</td>\n",
       "      <td>USA</td>\n",
       "      <td>PG-13</td>\n",
       "      <td>300000000.0</td>\n",
       "      <td>2007.0</td>\n",
       "      <td>5000.0</td>\n",
       "      <td>7.1</td>\n",
       "      <td>2.35</td>\n",
       "      <td>0</td>\n",
       "    </tr>\n",
       "    <tr>\n",
       "      <th>2</th>\n",
       "      <td>Color</td>\n",
       "      <td>Sam Mendes</td>\n",
       "      <td>602.0</td>\n",
       "      <td>148.0</td>\n",
       "      <td>0.0</td>\n",
       "      <td>161.0</td>\n",
       "      <td>Rory Kinnear</td>\n",
       "      <td>11000.0</td>\n",
       "      <td>200074175.0</td>\n",
       "      <td>Action|Adventure|Thriller</td>\n",
       "      <td>...</td>\n",
       "      <td>994.0</td>\n",
       "      <td>English</td>\n",
       "      <td>UK</td>\n",
       "      <td>PG-13</td>\n",
       "      <td>245000000.0</td>\n",
       "      <td>2015.0</td>\n",
       "      <td>393.0</td>\n",
       "      <td>6.8</td>\n",
       "      <td>2.35</td>\n",
       "      <td>85000</td>\n",
       "    </tr>\n",
       "    <tr>\n",
       "      <th>3</th>\n",
       "      <td>Color</td>\n",
       "      <td>Christopher Nolan</td>\n",
       "      <td>813.0</td>\n",
       "      <td>164.0</td>\n",
       "      <td>22000.0</td>\n",
       "      <td>23000.0</td>\n",
       "      <td>Christian Bale</td>\n",
       "      <td>27000.0</td>\n",
       "      <td>448130642.0</td>\n",
       "      <td>Action|Thriller</td>\n",
       "      <td>...</td>\n",
       "      <td>2701.0</td>\n",
       "      <td>English</td>\n",
       "      <td>USA</td>\n",
       "      <td>PG-13</td>\n",
       "      <td>250000000.0</td>\n",
       "      <td>2012.0</td>\n",
       "      <td>23000.0</td>\n",
       "      <td>8.5</td>\n",
       "      <td>2.35</td>\n",
       "      <td>164000</td>\n",
       "    </tr>\n",
       "    <tr>\n",
       "      <th>4</th>\n",
       "      <td>NaN</td>\n",
       "      <td>Doug Walker</td>\n",
       "      <td>NaN</td>\n",
       "      <td>NaN</td>\n",
       "      <td>131.0</td>\n",
       "      <td>NaN</td>\n",
       "      <td>Rob Walker</td>\n",
       "      <td>131.0</td>\n",
       "      <td>NaN</td>\n",
       "      <td>Documentary</td>\n",
       "      <td>...</td>\n",
       "      <td>NaN</td>\n",
       "      <td>NaN</td>\n",
       "      <td>NaN</td>\n",
       "      <td>NaN</td>\n",
       "      <td>NaN</td>\n",
       "      <td>NaN</td>\n",
       "      <td>12.0</td>\n",
       "      <td>7.1</td>\n",
       "      <td>NaN</td>\n",
       "      <td>0</td>\n",
       "    </tr>\n",
       "  </tbody>\n",
       "</table>\n",
       "<p>5 rows × 28 columns</p>\n",
       "</div>"
      ],
      "text/plain": [
       "   color      director_name  num_critic_for_reviews  duration  \\\n",
       "0  Color      James Cameron                   723.0     178.0   \n",
       "1  Color     Gore Verbinski                   302.0     169.0   \n",
       "2  Color         Sam Mendes                   602.0     148.0   \n",
       "3  Color  Christopher Nolan                   813.0     164.0   \n",
       "4    NaN        Doug Walker                     NaN       NaN   \n",
       "\n",
       "   director_facebook_likes  actor_3_facebook_likes      actor_2_name  \\\n",
       "0                      0.0                   855.0  Joel David Moore   \n",
       "1                    563.0                  1000.0     Orlando Bloom   \n",
       "2                      0.0                   161.0      Rory Kinnear   \n",
       "3                  22000.0                 23000.0    Christian Bale   \n",
       "4                    131.0                     NaN        Rob Walker   \n",
       "\n",
       "   actor_1_facebook_likes        gross                           genres  \\\n",
       "0                  1000.0  760505847.0  Action|Adventure|Fantasy|Sci-Fi   \n",
       "1                 40000.0  309404152.0         Action|Adventure|Fantasy   \n",
       "2                 11000.0  200074175.0        Action|Adventure|Thriller   \n",
       "3                 27000.0  448130642.0                  Action|Thriller   \n",
       "4                   131.0          NaN                      Documentary   \n",
       "\n",
       "          ...          num_user_for_reviews language  country  content_rating  \\\n",
       "0         ...                        3054.0  English      USA           PG-13   \n",
       "1         ...                        1238.0  English      USA           PG-13   \n",
       "2         ...                         994.0  English       UK           PG-13   \n",
       "3         ...                        2701.0  English      USA           PG-13   \n",
       "4         ...                           NaN      NaN      NaN             NaN   \n",
       "\n",
       "        budget  title_year actor_2_facebook_likes imdb_score  aspect_ratio  \\\n",
       "0  237000000.0      2009.0                  936.0        7.9          1.78   \n",
       "1  300000000.0      2007.0                 5000.0        7.1          2.35   \n",
       "2  245000000.0      2015.0                  393.0        6.8          2.35   \n",
       "3  250000000.0      2012.0                23000.0        8.5          2.35   \n",
       "4          NaN         NaN                   12.0        7.1           NaN   \n",
       "\n",
       "  movie_facebook_likes  \n",
       "0                33000  \n",
       "1                    0  \n",
       "2                85000  \n",
       "3               164000  \n",
       "4                    0  \n",
       "\n",
       "[5 rows x 28 columns]"
      ]
     },
     "execution_count": 61,
     "metadata": {},
     "output_type": "execute_result"
    }
   ],
   "source": [
    "# 컬럼이 많으니 중간에 ... 으로 표시된다 \n",
    "movie.head()"
   ]
  },
  {
   "cell_type": "code",
   "execution_count": 62,
   "metadata": {},
   "outputs": [],
   "source": [
    "movie.set_index(keys = 'movie_title', inplace=True, drop=False)"
   ]
  },
  {
   "cell_type": "code",
   "execution_count": 63,
   "metadata": {},
   "outputs": [
    {
     "name": "stdout",
     "output_type": "stream",
     "text": [
      "<class 'pandas.core.frame.DataFrame'>\n",
      "Index: 4916 entries, Avatar to My Date with Drew\n",
      "Data columns (total 28 columns):\n",
      "color                        4897 non-null object\n",
      "director_name                4814 non-null object\n",
      "num_critic_for_reviews       4867 non-null float64\n",
      "duration                     4901 non-null float64\n",
      "director_facebook_likes      4814 non-null float64\n",
      "actor_3_facebook_likes       4893 non-null float64\n",
      "actor_2_name                 4903 non-null object\n",
      "actor_1_facebook_likes       4909 non-null float64\n",
      "gross                        4054 non-null float64\n",
      "genres                       4916 non-null object\n",
      "actor_1_name                 4909 non-null object\n",
      "movie_title                  4916 non-null object\n",
      "num_voted_users              4916 non-null int64\n",
      "cast_total_facebook_likes    4916 non-null int64\n",
      "actor_3_name                 4893 non-null object\n",
      "facenumber_in_poster         4903 non-null float64\n",
      "plot_keywords                4764 non-null object\n",
      "movie_imdb_link              4916 non-null object\n",
      "num_user_for_reviews         4895 non-null float64\n",
      "language                     4904 non-null object\n",
      "country                      4911 non-null object\n",
      "content_rating               4616 non-null object\n",
      "budget                       4432 non-null float64\n",
      "title_year                   4810 non-null float64\n",
      "actor_2_facebook_likes       4903 non-null float64\n",
      "imdb_score                   4916 non-null float64\n",
      "aspect_ratio                 4590 non-null float64\n",
      "movie_facebook_likes         4916 non-null int64\n",
      "dtypes: float64(13), int64(3), object(12)\n",
      "memory usage: 864.1+ KB\n"
     ]
    }
   ],
   "source": [
    "#movie_title 컬럼이 존재하는가? \n",
    "movie.info()"
   ]
  },
  {
   "cell_type": "code",
   "execution_count": 64,
   "metadata": {},
   "outputs": [
    {
     "data": {
      "text/html": [
       "<div>\n",
       "<style scoped>\n",
       "    .dataframe tbody tr th:only-of-type {\n",
       "        vertical-align: middle;\n",
       "    }\n",
       "\n",
       "    .dataframe tbody tr th {\n",
       "        vertical-align: top;\n",
       "    }\n",
       "\n",
       "    .dataframe thead th {\n",
       "        text-align: right;\n",
       "    }\n",
       "</style>\n",
       "<table border=\"1\" class=\"dataframe\">\n",
       "  <thead>\n",
       "    <tr style=\"text-align: right;\">\n",
       "      <th></th>\n",
       "      <th>color</th>\n",
       "      <th>director_name</th>\n",
       "      <th>num_critic_for_reviews</th>\n",
       "      <th>duration</th>\n",
       "      <th>director_facebook_likes</th>\n",
       "      <th>actor_3_facebook_likes</th>\n",
       "      <th>actor_2_name</th>\n",
       "      <th>actor_1_facebook_likes</th>\n",
       "      <th>gross</th>\n",
       "      <th>genres</th>\n",
       "      <th>...</th>\n",
       "      <th>num_user_for_reviews</th>\n",
       "      <th>language</th>\n",
       "      <th>country</th>\n",
       "      <th>content_rating</th>\n",
       "      <th>budget</th>\n",
       "      <th>title_year</th>\n",
       "      <th>actor_2_facebook_likes</th>\n",
       "      <th>imdb_score</th>\n",
       "      <th>aspect_ratio</th>\n",
       "      <th>movie_facebook_likes</th>\n",
       "    </tr>\n",
       "    <tr>\n",
       "      <th>movie_title</th>\n",
       "      <th></th>\n",
       "      <th></th>\n",
       "      <th></th>\n",
       "      <th></th>\n",
       "      <th></th>\n",
       "      <th></th>\n",
       "      <th></th>\n",
       "      <th></th>\n",
       "      <th></th>\n",
       "      <th></th>\n",
       "      <th></th>\n",
       "      <th></th>\n",
       "      <th></th>\n",
       "      <th></th>\n",
       "      <th></th>\n",
       "      <th></th>\n",
       "      <th></th>\n",
       "      <th></th>\n",
       "      <th></th>\n",
       "      <th></th>\n",
       "      <th></th>\n",
       "    </tr>\n",
       "  </thead>\n",
       "  <tbody>\n",
       "    <tr>\n",
       "      <th>Avatar</th>\n",
       "      <td>Color</td>\n",
       "      <td>James Cameron</td>\n",
       "      <td>723.0</td>\n",
       "      <td>178.0</td>\n",
       "      <td>0.0</td>\n",
       "      <td>855.0</td>\n",
       "      <td>Joel David Moore</td>\n",
       "      <td>1000.0</td>\n",
       "      <td>760505847.0</td>\n",
       "      <td>Action|Adventure|Fantasy|Sci-Fi</td>\n",
       "      <td>...</td>\n",
       "      <td>3054.0</td>\n",
       "      <td>English</td>\n",
       "      <td>USA</td>\n",
       "      <td>PG-13</td>\n",
       "      <td>237000000.0</td>\n",
       "      <td>2009.0</td>\n",
       "      <td>936.0</td>\n",
       "      <td>7.9</td>\n",
       "      <td>1.78</td>\n",
       "      <td>33000</td>\n",
       "    </tr>\n",
       "    <tr>\n",
       "      <th>Pirates of the Caribbean: At World's End</th>\n",
       "      <td>Color</td>\n",
       "      <td>Gore Verbinski</td>\n",
       "      <td>302.0</td>\n",
       "      <td>169.0</td>\n",
       "      <td>563.0</td>\n",
       "      <td>1000.0</td>\n",
       "      <td>Orlando Bloom</td>\n",
       "      <td>40000.0</td>\n",
       "      <td>309404152.0</td>\n",
       "      <td>Action|Adventure|Fantasy</td>\n",
       "      <td>...</td>\n",
       "      <td>1238.0</td>\n",
       "      <td>English</td>\n",
       "      <td>USA</td>\n",
       "      <td>PG-13</td>\n",
       "      <td>300000000.0</td>\n",
       "      <td>2007.0</td>\n",
       "      <td>5000.0</td>\n",
       "      <td>7.1</td>\n",
       "      <td>2.35</td>\n",
       "      <td>0</td>\n",
       "    </tr>\n",
       "    <tr>\n",
       "      <th>Spectre</th>\n",
       "      <td>Color</td>\n",
       "      <td>Sam Mendes</td>\n",
       "      <td>602.0</td>\n",
       "      <td>148.0</td>\n",
       "      <td>0.0</td>\n",
       "      <td>161.0</td>\n",
       "      <td>Rory Kinnear</td>\n",
       "      <td>11000.0</td>\n",
       "      <td>200074175.0</td>\n",
       "      <td>Action|Adventure|Thriller</td>\n",
       "      <td>...</td>\n",
       "      <td>994.0</td>\n",
       "      <td>English</td>\n",
       "      <td>UK</td>\n",
       "      <td>PG-13</td>\n",
       "      <td>245000000.0</td>\n",
       "      <td>2015.0</td>\n",
       "      <td>393.0</td>\n",
       "      <td>6.8</td>\n",
       "      <td>2.35</td>\n",
       "      <td>85000</td>\n",
       "    </tr>\n",
       "    <tr>\n",
       "      <th>The Dark Knight Rises</th>\n",
       "      <td>Color</td>\n",
       "      <td>Christopher Nolan</td>\n",
       "      <td>813.0</td>\n",
       "      <td>164.0</td>\n",
       "      <td>22000.0</td>\n",
       "      <td>23000.0</td>\n",
       "      <td>Christian Bale</td>\n",
       "      <td>27000.0</td>\n",
       "      <td>448130642.0</td>\n",
       "      <td>Action|Thriller</td>\n",
       "      <td>...</td>\n",
       "      <td>2701.0</td>\n",
       "      <td>English</td>\n",
       "      <td>USA</td>\n",
       "      <td>PG-13</td>\n",
       "      <td>250000000.0</td>\n",
       "      <td>2012.0</td>\n",
       "      <td>23000.0</td>\n",
       "      <td>8.5</td>\n",
       "      <td>2.35</td>\n",
       "      <td>164000</td>\n",
       "    </tr>\n",
       "    <tr>\n",
       "      <th>Star Wars: Episode VII - The Force Awakens</th>\n",
       "      <td>NaN</td>\n",
       "      <td>Doug Walker</td>\n",
       "      <td>NaN</td>\n",
       "      <td>NaN</td>\n",
       "      <td>131.0</td>\n",
       "      <td>NaN</td>\n",
       "      <td>Rob Walker</td>\n",
       "      <td>131.0</td>\n",
       "      <td>NaN</td>\n",
       "      <td>Documentary</td>\n",
       "      <td>...</td>\n",
       "      <td>NaN</td>\n",
       "      <td>NaN</td>\n",
       "      <td>NaN</td>\n",
       "      <td>NaN</td>\n",
       "      <td>NaN</td>\n",
       "      <td>NaN</td>\n",
       "      <td>12.0</td>\n",
       "      <td>7.1</td>\n",
       "      <td>NaN</td>\n",
       "      <td>0</td>\n",
       "    </tr>\n",
       "  </tbody>\n",
       "</table>\n",
       "<p>5 rows × 28 columns</p>\n",
       "</div>"
      ],
      "text/plain": [
       "                                            color      director_name  \\\n",
       "movie_title                                                            \n",
       "Avatar                                      Color      James Cameron   \n",
       "Pirates of the Caribbean: At World's End    Color     Gore Verbinski   \n",
       "Spectre                                     Color         Sam Mendes   \n",
       "The Dark Knight Rises                       Color  Christopher Nolan   \n",
       "Star Wars: Episode VII - The Force Awakens    NaN        Doug Walker   \n",
       "\n",
       "                                            num_critic_for_reviews  duration  \\\n",
       "movie_title                                                                    \n",
       "Avatar                                                       723.0     178.0   \n",
       "Pirates of the Caribbean: At World's End                     302.0     169.0   \n",
       "Spectre                                                      602.0     148.0   \n",
       "The Dark Knight Rises                                        813.0     164.0   \n",
       "Star Wars: Episode VII - The Force Awakens                     NaN       NaN   \n",
       "\n",
       "                                            director_facebook_likes  \\\n",
       "movie_title                                                           \n",
       "Avatar                                                          0.0   \n",
       "Pirates of the Caribbean: At World's End                      563.0   \n",
       "Spectre                                                         0.0   \n",
       "The Dark Knight Rises                                       22000.0   \n",
       "Star Wars: Episode VII - The Force Awakens                    131.0   \n",
       "\n",
       "                                            actor_3_facebook_likes  \\\n",
       "movie_title                                                          \n",
       "Avatar                                                       855.0   \n",
       "Pirates of the Caribbean: At World's End                    1000.0   \n",
       "Spectre                                                      161.0   \n",
       "The Dark Knight Rises                                      23000.0   \n",
       "Star Wars: Episode VII - The Force Awakens                     NaN   \n",
       "\n",
       "                                                actor_2_name  \\\n",
       "movie_title                                                    \n",
       "Avatar                                      Joel David Moore   \n",
       "Pirates of the Caribbean: At World's End       Orlando Bloom   \n",
       "Spectre                                         Rory Kinnear   \n",
       "The Dark Knight Rises                         Christian Bale   \n",
       "Star Wars: Episode VII - The Force Awakens        Rob Walker   \n",
       "\n",
       "                                            actor_1_facebook_likes  \\\n",
       "movie_title                                                          \n",
       "Avatar                                                      1000.0   \n",
       "Pirates of the Caribbean: At World's End                   40000.0   \n",
       "Spectre                                                    11000.0   \n",
       "The Dark Knight Rises                                      27000.0   \n",
       "Star Wars: Episode VII - The Force Awakens                   131.0   \n",
       "\n",
       "                                                  gross  \\\n",
       "movie_title                                               \n",
       "Avatar                                      760505847.0   \n",
       "Pirates of the Caribbean: At World's End    309404152.0   \n",
       "Spectre                                     200074175.0   \n",
       "The Dark Knight Rises                       448130642.0   \n",
       "Star Wars: Episode VII - The Force Awakens          NaN   \n",
       "\n",
       "                                                                     genres  \\\n",
       "movie_title                                                                   \n",
       "Avatar                                      Action|Adventure|Fantasy|Sci-Fi   \n",
       "Pirates of the Caribbean: At World's End           Action|Adventure|Fantasy   \n",
       "Spectre                                           Action|Adventure|Thriller   \n",
       "The Dark Knight Rises                                       Action|Thriller   \n",
       "Star Wars: Episode VII - The Force Awakens                      Documentary   \n",
       "\n",
       "                                                   ...           \\\n",
       "movie_title                                        ...            \n",
       "Avatar                                             ...            \n",
       "Pirates of the Caribbean: At World's End           ...            \n",
       "Spectre                                            ...            \n",
       "The Dark Knight Rises                              ...            \n",
       "Star Wars: Episode VII - The Force Awakens         ...            \n",
       "\n",
       "                                           num_user_for_reviews language  \\\n",
       "movie_title                                                                \n",
       "Avatar                                                   3054.0  English   \n",
       "Pirates of the Caribbean: At World's End                 1238.0  English   \n",
       "Spectre                                                   994.0  English   \n",
       "The Dark Knight Rises                                    2701.0  English   \n",
       "Star Wars: Episode VII - The Force Awakens                  NaN      NaN   \n",
       "\n",
       "                                            country  content_rating  \\\n",
       "movie_title                                                           \n",
       "Avatar                                          USA           PG-13   \n",
       "Pirates of the Caribbean: At World's End        USA           PG-13   \n",
       "Spectre                                          UK           PG-13   \n",
       "The Dark Knight Rises                           USA           PG-13   \n",
       "Star Wars: Episode VII - The Force Awakens      NaN             NaN   \n",
       "\n",
       "                                                 budget  title_year  \\\n",
       "movie_title                                                           \n",
       "Avatar                                      237000000.0      2009.0   \n",
       "Pirates of the Caribbean: At World's End    300000000.0      2007.0   \n",
       "Spectre                                     245000000.0      2015.0   \n",
       "The Dark Knight Rises                       250000000.0      2012.0   \n",
       "Star Wars: Episode VII - The Force Awakens          NaN         NaN   \n",
       "\n",
       "                                           actor_2_facebook_likes imdb_score  \\\n",
       "movie_title                                                                    \n",
       "Avatar                                                      936.0        7.9   \n",
       "Pirates of the Caribbean: At World's End                   5000.0        7.1   \n",
       "Spectre                                                     393.0        6.8   \n",
       "The Dark Knight Rises                                     23000.0        8.5   \n",
       "Star Wars: Episode VII - The Force Awakens                   12.0        7.1   \n",
       "\n",
       "                                            aspect_ratio movie_facebook_likes  \n",
       "movie_title                                                                    \n",
       "Avatar                                              1.78                33000  \n",
       "Pirates of the Caribbean: At World's End            2.35                    0  \n",
       "Spectre                                             2.35                85000  \n",
       "The Dark Knight Rises                               2.35               164000  \n",
       "Star Wars: Episode VII - The Force Awakens           NaN                    0  \n",
       "\n",
       "[5 rows x 28 columns]"
      ]
     },
     "execution_count": 64,
     "metadata": {},
     "output_type": "execute_result"
    }
   ],
   "source": [
    "movie.head()"
   ]
  },
  {
   "cell_type": "markdown",
   "metadata": {},
   "source": [
    "## 4. 영화감독(director_name)의 빈도를 출력하세요."
   ]
  },
  {
   "cell_type": "code",
   "execution_count": 65,
   "metadata": {},
   "outputs": [
    {
     "data": {
      "text/plain": [
       "Steven Spielberg             26\n",
       "Woody Allen                  22\n",
       "Martin Scorsese              20\n",
       "Clint Eastwood               20\n",
       "Ridley Scott                 16\n",
       "Spike Lee                    16\n",
       "Steven Soderbergh            15\n",
       "Renny Harlin                 15\n",
       "Tim Burton                   14\n",
       "Oliver Stone                 14\n",
       "Joel Schumacher              13\n",
       "Barry Levinson               13\n",
       "Ron Howard                   13\n",
       "Robert Rodriguez             13\n",
       "Robert Zemeckis              13\n",
       "Tony Scott                   12\n",
       "Brian De Palma               12\n",
       "Michael Bay                  12\n",
       "Kevin Smith                  12\n",
       "Sam Raimi                    11\n",
       "Richard Donner               11\n",
       "Rob Reiner                   11\n",
       "Francis Ford Coppola         11\n",
       "Chris Columbus               11\n",
       "Richard Linklater            11\n",
       "Shawn Levy                   11\n",
       "Bobby Farrelly               10\n",
       "Stephen Frears               10\n",
       "John McTiernan               10\n",
       "Wes Craven                   10\n",
       "                             ..\n",
       "Christian E. Christiansen     1\n",
       "John 'Bud' Cardos             1\n",
       "Rupert Wainwright             1\n",
       "Forest Whitaker               1\n",
       "Goran Dukic                   1\n",
       "Jim Issa                      1\n",
       "Vincent Ward                  1\n",
       "Eric Bugbee                   1\n",
       "Robert Hall                   1\n",
       "Andrey Zvyagintsev            1\n",
       "Giuseppe Tornatore            1\n",
       "Hong-jin Na                   1\n",
       "Tom Green                     1\n",
       "Tom Sanchez                   1\n",
       "Alan Metter                   1\n",
       "Bill Muir                     1\n",
       "Douglas Trumbull              1\n",
       "Michael J. Bassett            1\n",
       "Shekar                        1\n",
       "Frank Nissen                  1\n",
       "Ferzan Ozpetek                1\n",
       "Marius A. Markevicius         1\n",
       "Justin Tipping                1\n",
       "David E. Talbert              1\n",
       "Jim Amatulli                  1\n",
       "Peter Yates                   1\n",
       "Joe Camp                      1\n",
       "Jonathan Teplitzky            1\n",
       "Michael McCullers             1\n",
       "Max Mayer                     1\n",
       "Name: director_name, Length: 2397, dtype: int64"
      ]
     },
     "execution_count": 65,
     "metadata": {},
     "output_type": "execute_result"
    }
   ],
   "source": [
    "movie['director_name'].value_counts()"
   ]
  },
  {
   "cell_type": "markdown",
   "metadata": {},
   "source": [
    "## 5. 영화감독(director_name) column에 누락값이 존재하는지, 존재한다면 몇 개인지 확인하세요.\n",
    "--> 102개 "
   ]
  },
  {
   "cell_type": "code",
   "execution_count": 66,
   "metadata": {},
   "outputs": [
    {
     "data": {
      "text/plain": [
       "102"
      ]
     },
     "execution_count": 66,
     "metadata": {},
     "output_type": "execute_result"
    }
   ],
   "source": [
    "movie['director_name'].isnull().sum()"
   ]
  },
  {
   "cell_type": "markdown",
   "metadata": {},
   "source": [
    "## 6. 영화감독의 누락값을 자신의 이름으로 변경하세요."
   ]
  },
  {
   "cell_type": "code",
   "execution_count": 67,
   "metadata": {},
   "outputs": [
    {
     "data": {
      "text/plain": [
       "color                                                                    Color\n",
       "director_name                                                              NaN\n",
       "num_critic_for_reviews                                                      21\n",
       "duration                                                                    60\n",
       "director_facebook_likes                                                    NaN\n",
       "actor_3_facebook_likes                                                     184\n",
       "actor_2_name                                             Philip Michael Thomas\n",
       "actor_1_facebook_likes                                                     982\n",
       "gross                                                                      NaN\n",
       "genres                                     Action|Crime|Drama|Mystery|Thriller\n",
       "actor_1_name                                                       Don Johnson\n",
       "movie_title                                                         Miami Vice\n",
       "num_voted_users                                                          16769\n",
       "cast_total_facebook_likes                                                 1687\n",
       "actor_3_name                                                        John Diehl\n",
       "facenumber_in_poster                                                         2\n",
       "plot_keywords                        cult tv|detective|drugs|police|undercover\n",
       "movie_imdb_link              http://www.imdb.com/title/tt0086759/?ref_=fn_t...\n",
       "num_user_for_reviews                                                        74\n",
       "language                                                               English\n",
       "country                                                                    USA\n",
       "content_rating                                                           TV-14\n",
       "budget                                                                 1.5e+06\n",
       "title_year                                                                 NaN\n",
       "actor_2_facebook_likes                                                     321\n",
       "imdb_score                                                                 7.5\n",
       "aspect_ratio                                                              1.33\n",
       "movie_facebook_likes                                                         0\n",
       "Name: Miami Vice, dtype: object"
      ]
     },
     "execution_count": 67,
     "metadata": {},
     "output_type": "execute_result"
    }
   ],
   "source": [
    "# 영화 감독이 누락된 행 출력 \n",
    "# director_name 이 NaN 임 \n",
    "movie.loc['Miami Vice']"
   ]
  },
  {
   "cell_type": "code",
   "execution_count": 68,
   "metadata": {},
   "outputs": [],
   "source": [
    "#fillna 적용 \n",
    "#(inplace 안하면 적용이 안됨, 리턴도 받기가 애매함)\n",
    "movie['director_name'].fillna('Dong Hwan Yu', inplace=True)"
   ]
  },
  {
   "cell_type": "code",
   "execution_count": 69,
   "metadata": {},
   "outputs": [
    {
     "data": {
      "text/plain": [
       "color                                                                    Color\n",
       "director_name                                                     Dong Hwan Yu\n",
       "num_critic_for_reviews                                                      21\n",
       "duration                                                                    60\n",
       "director_facebook_likes                                                    NaN\n",
       "actor_3_facebook_likes                                                     184\n",
       "actor_2_name                                             Philip Michael Thomas\n",
       "actor_1_facebook_likes                                                     982\n",
       "gross                                                                      NaN\n",
       "genres                                     Action|Crime|Drama|Mystery|Thriller\n",
       "actor_1_name                                                       Don Johnson\n",
       "movie_title                                                         Miami Vice\n",
       "num_voted_users                                                          16769\n",
       "cast_total_facebook_likes                                                 1687\n",
       "actor_3_name                                                        John Diehl\n",
       "facenumber_in_poster                                                         2\n",
       "plot_keywords                        cult tv|detective|drugs|police|undercover\n",
       "movie_imdb_link              http://www.imdb.com/title/tt0086759/?ref_=fn_t...\n",
       "num_user_for_reviews                                                        74\n",
       "language                                                               English\n",
       "country                                                                    USA\n",
       "content_rating                                                           TV-14\n",
       "budget                                                                 1.5e+06\n",
       "title_year                                                                 NaN\n",
       "actor_2_facebook_likes                                                     321\n",
       "imdb_score                                                                 7.5\n",
       "aspect_ratio                                                              1.33\n",
       "movie_facebook_likes                                                         0\n",
       "Name: Miami Vice, dtype: object"
      ]
     },
     "execution_count": 69,
     "metadata": {},
     "output_type": "execute_result"
    }
   ],
   "source": [
    "#결과 확인 \n",
    "movie.loc['Miami Vice']"
   ]
  },
  {
   "cell_type": "code",
   "execution_count": 70,
   "metadata": {},
   "outputs": [
    {
     "data": {
      "text/plain": [
       "0"
      ]
     },
     "execution_count": 70,
     "metadata": {},
     "output_type": "execute_result"
    }
   ],
   "source": [
    "#결과 확인2 \n",
    "# --> null이 없는 것 확인 (0이어야 함)\n",
    "movie['director_name'].isnull().sum()"
   ]
  },
  {
   "cell_type": "markdown",
   "metadata": {},
   "source": [
    "## 7. Christopher Nolan 감독의 영화를 모두 출력하세요."
   ]
  },
  {
   "cell_type": "code",
   "execution_count": 71,
   "metadata": {},
   "outputs": [
    {
     "data": {
      "text/plain": [
       "Index(['The Dark Knight Rises', 'The Dark Knight', 'Interstellar', 'Inception',\n",
       "       'Batman Begins', 'Insomnia', 'The Prestige', 'Memento'],\n",
       "      dtype='object', name='movie_title')"
      ]
     },
     "execution_count": 71,
     "metadata": {},
     "output_type": "execute_result"
    }
   ],
   "source": [
    "movie[movie.director_name == 'Christopher Nolan'].index"
   ]
  },
  {
   "cell_type": "markdown",
   "metadata": {},
   "source": [
    "## 8. movie df에 actor_director_facebook_likes column을 추가하세요.\n",
    "\n",
    "```python\n",
    "actor_director_facebook_likes = actor_1_facebook_likes +\n",
    "                                actor_2_facebook_likes +\n",
    "                                actor_3_facebook_likes +\n",
    "                                director_facebook_likes\n",
    "```"
   ]
  },
  {
   "cell_type": "code",
   "execution_count": 72,
   "metadata": {},
   "outputs": [],
   "source": [
    "#적용 \n",
    "movie['actor_director_facebook_likes'] = movie['actor_1_facebook_likes'] + movie['actor_2_facebook_likes'] + movie['actor_3_facebook_likes'] + movie['director_facebook_likes'] \n",
    "  "
   ]
  },
  {
   "cell_type": "code",
   "execution_count": 73,
   "metadata": {},
   "outputs": [
    {
     "name": "stderr",
     "output_type": "stream",
     "text": [
      "d:\\work\\python\\lib\\site-packages\\ipykernel_launcher.py:4: DeprecationWarning: \n",
      ".ix is deprecated. Please use\n",
      ".loc for label based indexing or\n",
      ".iloc for positional indexing\n",
      "\n",
      "See the documentation here:\n",
      "http://pandas.pydata.org/pandas-docs/stable/indexing.html#ix-indexer-is-deprecated\n",
      "  after removing the cwd from sys.path.\n"
     ]
    },
    {
     "data": {
      "text/plain": [
       "2791.0"
      ]
     },
     "execution_count": 73,
     "metadata": {},
     "output_type": "execute_result"
    }
   ],
   "source": [
    "#결과 확인 \n",
    "# 합 2791 확인 \n",
    "# --> ix()를 안쓰고 어케 만들 수 있을까???? \n",
    "movie.ix[0,'actor_director_facebook_likes']"
   ]
  },
  {
   "cell_type": "code",
   "execution_count": 74,
   "metadata": {},
   "outputs": [
    {
     "data": {
      "text/plain": [
       "2791.0"
      ]
     },
     "execution_count": 74,
     "metadata": {},
     "output_type": "execute_result"
    }
   ],
   "source": [
    "movie.ix[0,'actor_1_facebook_likes'] + movie.ix[0,'actor_2_facebook_likes'] + movie.ix[0,'actor_3_facebook_likes'] + movie.ix[0,'director_facebook_likes'] "
   ]
  },
  {
   "cell_type": "markdown",
   "metadata": {},
   "source": [
    "## 9. director_name -> director, movie_title -> title로 column name을 변경하세요."
   ]
  },
  {
   "cell_type": "code",
   "execution_count": 79,
   "metadata": {},
   "outputs": [],
   "source": [
    "mapping = {'director_name' : 'director', \n",
    "           'movie_title' : 'title'}\n",
    "movie.rename(columns = mapping, inplace=True)"
   ]
  },
  {
   "cell_type": "code",
   "execution_count": 81,
   "metadata": {},
   "outputs": [
    {
     "name": "stdout",
     "output_type": "stream",
     "text": [
      "<class 'pandas.core.frame.DataFrame'>\n",
      "Index: 4916 entries, Avatar to My Date with Drew\n",
      "Data columns (total 29 columns):\n",
      "color                            4897 non-null object\n",
      "director                         4916 non-null object\n",
      "num_critic_for_reviews           4867 non-null float64\n",
      "duration                         4901 non-null float64\n",
      "director_facebook_likes          4814 non-null float64\n",
      "actor_3_facebook_likes           4893 non-null float64\n",
      "actor_2_name                     4903 non-null object\n",
      "actor_1_facebook_likes           4909 non-null float64\n",
      "gross                            4054 non-null float64\n",
      "genres                           4916 non-null object\n",
      "actor_1_name                     4909 non-null object\n",
      "title                            4916 non-null object\n",
      "num_voted_users                  4916 non-null int64\n",
      "cast_total_facebook_likes        4916 non-null int64\n",
      "actor_3_name                     4893 non-null object\n",
      "facenumber_in_poster             4903 non-null float64\n",
      "plot_keywords                    4764 non-null object\n",
      "movie_imdb_link                  4916 non-null object\n",
      "num_user_for_reviews             4895 non-null float64\n",
      "language                         4904 non-null object\n",
      "country                          4911 non-null object\n",
      "content_rating                   4616 non-null object\n",
      "budget                           4432 non-null float64\n",
      "title_year                       4810 non-null float64\n",
      "actor_2_facebook_likes           4903 non-null float64\n",
      "imdb_score                       4916 non-null float64\n",
      "aspect_ratio                     4590 non-null float64\n",
      "movie_facebook_likes             4916 non-null int64\n",
      "actor_director_facebook_likes    4794 non-null float64\n",
      "dtypes: float64(14), int64(3), object(12)\n",
      "memory usage: 902.5+ KB\n"
     ]
    }
   ],
   "source": [
    "#director와 title 컬럼이 생겼다. \n",
    "movie.info()"
   ]
  },
  {
   "cell_type": "markdown",
   "metadata": {},
   "source": [
    "## 10. actor_director_facebook_likes column을 삭제하세요."
   ]
  },
  {
   "cell_type": "code",
   "execution_count": 84,
   "metadata": {},
   "outputs": [],
   "source": [
    "movie.drop(['actor_director_facebook_likes'], axis=1,inplace=True)"
   ]
  },
  {
   "cell_type": "code",
   "execution_count": 86,
   "metadata": {},
   "outputs": [
    {
     "name": "stdout",
     "output_type": "stream",
     "text": [
      "<class 'pandas.core.frame.DataFrame'>\n",
      "Index: 4916 entries, Avatar to My Date with Drew\n",
      "Data columns (total 28 columns):\n",
      "color                        4897 non-null object\n",
      "director                     4916 non-null object\n",
      "num_critic_for_reviews       4867 non-null float64\n",
      "duration                     4901 non-null float64\n",
      "director_facebook_likes      4814 non-null float64\n",
      "actor_3_facebook_likes       4893 non-null float64\n",
      "actor_2_name                 4903 non-null object\n",
      "actor_1_facebook_likes       4909 non-null float64\n",
      "gross                        4054 non-null float64\n",
      "genres                       4916 non-null object\n",
      "actor_1_name                 4909 non-null object\n",
      "title                        4916 non-null object\n",
      "num_voted_users              4916 non-null int64\n",
      "cast_total_facebook_likes    4916 non-null int64\n",
      "actor_3_name                 4893 non-null object\n",
      "facenumber_in_poster         4903 non-null float64\n",
      "plot_keywords                4764 non-null object\n",
      "movie_imdb_link              4916 non-null object\n",
      "num_user_for_reviews         4895 non-null float64\n",
      "language                     4904 non-null object\n",
      "country                      4911 non-null object\n",
      "content_rating               4616 non-null object\n",
      "budget                       4432 non-null float64\n",
      "title_year                   4810 non-null float64\n",
      "actor_2_facebook_likes       4903 non-null float64\n",
      "imdb_score                   4916 non-null float64\n",
      "aspect_ratio                 4590 non-null float64\n",
      "movie_facebook_likes         4916 non-null int64\n",
      "dtypes: float64(13), int64(3), object(12)\n",
      "memory usage: 864.1+ KB\n"
     ]
    }
   ],
   "source": [
    "# actor_director_facebook_likes 컬럼이 없는지 확인 \n",
    "movie.info()"
   ]
  }
 ],
 "metadata": {
  "kernelspec": {
   "display_name": "Python 3",
   "language": "python",
   "name": "python3"
  },
  "language_info": {
   "codemirror_mode": {
    "name": "ipython",
    "version": 3
   },
   "file_extension": ".py",
   "mimetype": "text/x-python",
   "name": "python",
   "nbconvert_exporter": "python",
   "pygments_lexer": "ipython3",
   "version": "3.6.4"
  }
 },
 "nbformat": 4,
 "nbformat_minor": 2
}
