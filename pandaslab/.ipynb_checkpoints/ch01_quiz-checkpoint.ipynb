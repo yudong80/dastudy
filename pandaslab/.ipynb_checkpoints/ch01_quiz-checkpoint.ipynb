{
 "cells": [
  {
   "cell_type": "markdown",
   "metadata": {},
   "source": [
    "#  ch01 quiz\n",
    "\n",
    "\n",
    "\n",
    "## 2. movie df의 columns을 모두 출력하세요.\n",
    "\n",
    "## 3. movie_title column을 movie의 index로 설정하세요.\n",
    "\n",
    "## 4. 영화감독(director_name)의 빈도를 출력하세요.\n",
    "\n",
    "## 5. 영화감독(director_name) column에 누락값이 존재하는지, 존재한다면 몇 개인지 확인하세요.\n",
    "\n",
    "## 6. 영화감독의 누락값을 자신의 이름으로 변경하세요.\n",
    "\n",
    "## 7. Christopher Nolan 감독의 영화를 모두 출력하세요.\n",
    "\n",
    "## 8. movie df에 actor_director_facebook_likes column을 추가하세요.\n",
    "\n",
    "```python\n",
    "actor_director_facebook_likes = actor_1_facebook_likes +\n",
    "                                actor_1_facebook_likes +\n",
    "                                actor_1_facebook_likes +\n",
    "                                director_facebook_likes\n",
    "```\n",
    "\n",
    "## 9. director_name -> director, movie_title -> title로 column name을 변경하세요.\n",
    "\n",
    "## 10. actor_director_facebook_likes column을 삭제하세요."
   ]
  },
  {
   "cell_type": "markdown",
   "metadata": {},
   "source": [
    "## 1. movie.csv 파일을 movie라는 이름의 DataFrame으로 변환하세요."
   ]
  },
  {
   "cell_type": "code",
   "execution_count": null,
   "metadata": {},
   "outputs": [],
   "source": []
  }
 ],
 "metadata": {
  "kernelspec": {
   "display_name": "Python 3",
   "language": "python",
   "name": "python3"
  },
  "language_info": {
   "codemirror_mode": {
    "name": "ipython",
    "version": 3
   },
   "file_extension": ".py",
   "mimetype": "text/x-python",
   "name": "python",
   "nbconvert_exporter": "python",
   "pygments_lexer": "ipython3",
   "version": "3.6.4"
  }
 },
 "nbformat": 4,
 "nbformat_minor": 2
}
