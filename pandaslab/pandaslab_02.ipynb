{
 "cells": [
  {
   "cell_type": "markdown",
   "metadata": {},
   "source": [
    "### 2018.7.7 "
   ]
  },
  {
   "cell_type": "markdown",
   "metadata": {},
   "source": [
    "** 데이터 로딩 / 기본 확인 작업 ** "
   ]
  },
  {
   "cell_type": "code",
   "execution_count": 110,
   "metadata": {},
   "outputs": [],
   "source": [
    "import pandas as pd\n",
    "import numpy as np\n",
    "import matplotlib.pyplot as plt \n",
    "\n",
    "userdata = pd.read_csv('02-user-data.csv')"
   ]
  },
  {
   "cell_type": "code",
   "execution_count": 86,
   "metadata": {},
   "outputs": [
    {
     "data": {
      "text/html": [
       "<div>\n",
       "<style scoped>\n",
       "    .dataframe tbody tr th:only-of-type {\n",
       "        vertical-align: middle;\n",
       "    }\n",
       "\n",
       "    .dataframe tbody tr th {\n",
       "        vertical-align: top;\n",
       "    }\n",
       "\n",
       "    .dataframe thead th {\n",
       "        text-align: right;\n",
       "    }\n",
       "</style>\n",
       "<table border=\"1\" class=\"dataframe\">\n",
       "  <thead>\n",
       "    <tr style=\"text-align: right;\">\n",
       "      <th></th>\n",
       "      <th>이름</th>\n",
       "      <th>성별</th>\n",
       "      <th>전화번호</th>\n",
       "      <th>나이</th>\n",
       "      <th>현재 체중</th>\n",
       "      <th>목표 체중</th>\n",
       "      <th>키</th>\n",
       "      <th>회원 가입일</th>\n",
       "      <th>회원 정보 갱신일</th>\n",
       "      <th>흡연 여부</th>\n",
       "      <th>음주 여부</th>\n",
       "      <th>가입 개월 수</th>\n",
       "      <th>개인상담 요청</th>\n",
       "    </tr>\n",
       "  </thead>\n",
       "  <tbody>\n",
       "    <tr>\n",
       "      <th>0</th>\n",
       "      <td>안원준</td>\n",
       "      <td>남성</td>\n",
       "      <td>010-2292-6251</td>\n",
       "      <td>31세</td>\n",
       "      <td>78</td>\n",
       "      <td>68</td>\n",
       "      <td>176</td>\n",
       "      <td>2016년 07월 05일</td>\n",
       "      <td>2016년 07월 05일</td>\n",
       "      <td>아니오</td>\n",
       "      <td>주 1회</td>\n",
       "      <td>0개월</td>\n",
       "      <td>아니요</td>\n",
       "    </tr>\n",
       "    <tr>\n",
       "      <th>1</th>\n",
       "      <td>유세아</td>\n",
       "      <td>여성</td>\n",
       "      <td>01045795881</td>\n",
       "      <td>39</td>\n",
       "      <td>56kg</td>\n",
       "      <td>51kg</td>\n",
       "      <td>172</td>\n",
       "      <td>2016년 10월 02일</td>\n",
       "      <td>2016년 11월 29일</td>\n",
       "      <td>예</td>\n",
       "      <td>월 1회</td>\n",
       "      <td>0개월</td>\n",
       "      <td>아니요</td>\n",
       "    </tr>\n",
       "  </tbody>\n",
       "</table>\n",
       "</div>"
      ],
      "text/plain": [
       "    이름  성별           전화번호   나이 현재 체중 목표 체중    키         회원 가입일      회원 정보 갱신일  \\\n",
       "0  안원준  남성  010-2292-6251  31세    78    68  176  2016년 07월 05일  2016년 07월 05일   \n",
       "1  유세아  여성    01045795881   39  56kg  51kg  172  2016년 10월 02일  2016년 11월 29일   \n",
       "\n",
       "  흡연 여부 음주 여부 가입 개월 수 개인상담 요청  \n",
       "0   아니오  주 1회     0개월     아니요  \n",
       "1     예  월 1회     0개월     아니요  "
      ]
     },
     "execution_count": 86,
     "metadata": {},
     "output_type": "execute_result"
    }
   ],
   "source": [
    "userdata.head(2)"
   ]
  },
  {
   "cell_type": "code",
   "execution_count": 87,
   "metadata": {},
   "outputs": [
    {
     "name": "stdout",
     "output_type": "stream",
     "text": [
      "<class 'pandas.core.frame.DataFrame'>\n",
      "RangeIndex: 106839 entries, 0 to 106838\n",
      "Data columns (total 13 columns):\n",
      "이름           106839 non-null object\n",
      "성별           106839 non-null object\n",
      "전화번호         106839 non-null object\n",
      "나이           96199 non-null object\n",
      "현재 체중        106839 non-null object\n",
      "목표 체중        106839 non-null object\n",
      "키            106839 non-null object\n",
      "회원 가입일       106839 non-null object\n",
      "회원 정보 갱신일    106839 non-null object\n",
      "흡연 여부        106839 non-null object\n",
      "음주 여부        106839 non-null object\n",
      "가입 개월 수      106839 non-null object\n",
      "개인상담 요청      106839 non-null object\n",
      "dtypes: object(13)\n",
      "memory usage: 5.3+ MB\n"
     ]
    }
   ],
   "source": [
    "# 전체 데이터가 106839 \n",
    "# 중간에 null 값이 많아 보인다 \n",
    "userdata.info()"
   ]
  },
  {
   "cell_type": "code",
   "execution_count": 88,
   "metadata": {},
   "outputs": [
    {
     "data": {
      "text/plain": [
       "이름               0\n",
       "성별               0\n",
       "전화번호             0\n",
       "나이           10640\n",
       "현재 체중            0\n",
       "목표 체중            0\n",
       "키                0\n",
       "회원 가입일           0\n",
       "회원 정보 갱신일        0\n",
       "흡연 여부            0\n",
       "음주 여부            0\n",
       "가입 개월 수          0\n",
       "개인상담 요청          0\n",
       "dtype: int64"
      ]
     },
     "execution_count": 88,
     "metadata": {},
     "output_type": "execute_result"
    }
   ],
   "source": [
    "# 사람들은 나이에 민감한 것 같다 \n",
    "userdata.isnull().sum()"
   ]
  },
  {
   "cell_type": "markdown",
   "metadata": {},
   "source": [
    "** 1. 텍스트로 된 흡연 여부(예/아니오)를 True/False 로 바꾸기 **"
   ]
  },
  {
   "cell_type": "code",
   "execution_count": 89,
   "metadata": {},
   "outputs": [
    {
     "data": {
      "text/html": [
       "<div>\n",
       "<style scoped>\n",
       "    .dataframe tbody tr th:only-of-type {\n",
       "        vertical-align: middle;\n",
       "    }\n",
       "\n",
       "    .dataframe tbody tr th {\n",
       "        vertical-align: top;\n",
       "    }\n",
       "\n",
       "    .dataframe thead th {\n",
       "        text-align: right;\n",
       "    }\n",
       "</style>\n",
       "<table border=\"1\" class=\"dataframe\">\n",
       "  <thead>\n",
       "    <tr style=\"text-align: right;\">\n",
       "      <th></th>\n",
       "      <th>이름</th>\n",
       "      <th>성별</th>\n",
       "      <th>전화번호</th>\n",
       "      <th>나이</th>\n",
       "      <th>현재 체중</th>\n",
       "      <th>목표 체중</th>\n",
       "      <th>키</th>\n",
       "      <th>회원 가입일</th>\n",
       "      <th>회원 정보 갱신일</th>\n",
       "      <th>흡연 여부</th>\n",
       "      <th>음주 여부</th>\n",
       "      <th>가입 개월 수</th>\n",
       "      <th>개인상담 요청</th>\n",
       "    </tr>\n",
       "  </thead>\n",
       "  <tbody>\n",
       "    <tr>\n",
       "      <th>0</th>\n",
       "      <td>안원준</td>\n",
       "      <td>남성</td>\n",
       "      <td>010-2292-6251</td>\n",
       "      <td>31세</td>\n",
       "      <td>78</td>\n",
       "      <td>68</td>\n",
       "      <td>176</td>\n",
       "      <td>2016년 07월 05일</td>\n",
       "      <td>2016년 07월 05일</td>\n",
       "      <td>아니오</td>\n",
       "      <td>주 1회</td>\n",
       "      <td>0개월</td>\n",
       "      <td>아니요</td>\n",
       "    </tr>\n",
       "  </tbody>\n",
       "</table>\n",
       "</div>"
      ],
      "text/plain": [
       "    이름  성별           전화번호   나이 현재 체중 목표 체중    키         회원 가입일      회원 정보 갱신일  \\\n",
       "0  안원준  남성  010-2292-6251  31세    78    68  176  2016년 07월 05일  2016년 07월 05일   \n",
       "\n",
       "  흡연 여부 음주 여부 가입 개월 수 개인상담 요청  \n",
       "0   아니오  주 1회     0개월     아니요  "
      ]
     },
     "execution_count": 89,
     "metadata": {},
     "output_type": "execute_result"
    }
   ],
   "source": [
    "userdata.head(1)"
   ]
  },
  {
   "cell_type": "code",
   "execution_count": 111,
   "metadata": {},
   "outputs": [],
   "source": [
    "smoking_mapping = {'예': True, '아니오': False}\n",
    "userdata['흡연 여부'] = userdata['흡연 여부'].map(smoking_mapping)"
   ]
  },
  {
   "cell_type": "code",
   "execution_count": 112,
   "metadata": {},
   "outputs": [
    {
     "data": {
      "text/plain": [
       "False    85468\n",
       "True     21371\n",
       "Name: 흡연 여부, dtype: int64"
      ]
     },
     "execution_count": 112,
     "metadata": {},
     "output_type": "execute_result"
    }
   ],
   "source": [
    "userdata['흡연 여부'].value_counts()"
   ]
  },
  {
   "cell_type": "code",
   "execution_count": 91,
   "metadata": {},
   "outputs": [
    {
     "data": {
      "text/html": [
       "<div>\n",
       "<style scoped>\n",
       "    .dataframe tbody tr th:only-of-type {\n",
       "        vertical-align: middle;\n",
       "    }\n",
       "\n",
       "    .dataframe tbody tr th {\n",
       "        vertical-align: top;\n",
       "    }\n",
       "\n",
       "    .dataframe thead th {\n",
       "        text-align: right;\n",
       "    }\n",
       "</style>\n",
       "<table border=\"1\" class=\"dataframe\">\n",
       "  <thead>\n",
       "    <tr style=\"text-align: right;\">\n",
       "      <th></th>\n",
       "      <th>이름</th>\n",
       "      <th>성별</th>\n",
       "      <th>전화번호</th>\n",
       "      <th>나이</th>\n",
       "      <th>현재 체중</th>\n",
       "      <th>목표 체중</th>\n",
       "      <th>키</th>\n",
       "      <th>회원 가입일</th>\n",
       "      <th>회원 정보 갱신일</th>\n",
       "      <th>흡연 여부</th>\n",
       "      <th>음주 여부</th>\n",
       "      <th>가입 개월 수</th>\n",
       "      <th>개인상담 요청</th>\n",
       "    </tr>\n",
       "  </thead>\n",
       "  <tbody>\n",
       "    <tr>\n",
       "      <th>0</th>\n",
       "      <td>안원준</td>\n",
       "      <td>남성</td>\n",
       "      <td>010-2292-6251</td>\n",
       "      <td>31세</td>\n",
       "      <td>78</td>\n",
       "      <td>68</td>\n",
       "      <td>176</td>\n",
       "      <td>2016년 07월 05일</td>\n",
       "      <td>2016년 07월 05일</td>\n",
       "      <td>False</td>\n",
       "      <td>주 1회</td>\n",
       "      <td>0개월</td>\n",
       "      <td>아니요</td>\n",
       "    </tr>\n",
       "  </tbody>\n",
       "</table>\n",
       "</div>"
      ],
      "text/plain": [
       "    이름  성별           전화번호   나이 현재 체중 목표 체중    키         회원 가입일      회원 정보 갱신일  \\\n",
       "0  안원준  남성  010-2292-6251  31세    78    68  176  2016년 07월 05일  2016년 07월 05일   \n",
       "\n",
       "   흡연 여부 음주 여부 가입 개월 수 개인상담 요청  \n",
       "0  False  주 1회     0개월     아니요  "
      ]
     },
     "execution_count": 91,
     "metadata": {},
     "output_type": "execute_result"
    }
   ],
   "source": [
    "userdata.head(1)"
   ]
  },
  {
   "cell_type": "markdown",
   "metadata": {},
   "source": [
    "** 2. 나이에서 0세라고 되어있는 것을 NaN으로 바꾸기 **"
   ]
  },
  {
   "cell_type": "code",
   "execution_count": 49,
   "metadata": {},
   "outputs": [],
   "source": [
    "#나이에서 0 것을 확인 \n",
    "# 확인 결과 (0세)는 없음 \n",
    "# -> 따라서 의미 없음 \n",
    "s = userdata['나이'].value_counts()\n",
    "s.to_csv('02-age-value_counts.csv')"
   ]
  },
  {
   "cell_type": "markdown",
   "metadata": {},
   "source": [
    "** 3. 나이 컬럼을 정리하기 **"
   ]
  },
  {
   "cell_type": "code",
   "execution_count": 53,
   "metadata": {},
   "outputs": [
    {
     "name": "stdout",
     "output_type": "stream",
     "text": [
      "32\n",
      "32\n",
      "32\n"
     ]
    }
   ],
   "source": [
    "#test : 이거면 충분한듯 \n",
    "dt = ['32세', '32', '32 세']\n",
    "for a in dt: \n",
    "    print(int(a.replace('세','')))\n",
    "    "
   ]
  },
  {
   "cell_type": "code",
   "execution_count": 113,
   "metadata": {},
   "outputs": [],
   "source": [
    "#age는 null값이 10640 개 만큼 있다 \n",
    "#Working with missing data \n",
    "#https://pandas.pydata.org/pandas-docs/stable/missing_data.html \n",
    "def convert_age(age):\n",
    "    if pd.isnull(age):\n",
    "        return age  #null은 그대로 두기     \n",
    "    return int(age.replace('세',''))\n",
    "\n",
    "userdata['나이'] = userdata['나이'].apply(convert_age)"
   ]
  },
  {
   "cell_type": "code",
   "execution_count": 114,
   "metadata": {},
   "outputs": [
    {
     "data": {
      "text/plain": [
       "33.0     7024\n",
       "34.0     6773\n",
       "32.0     6677\n",
       "31.0     6644\n",
       "35.0     6438\n",
       "30.0     5945\n",
       "36.0     5846\n",
       "29.0     5250\n",
       "37.0     5186\n",
       "28.0     4656\n",
       "38.0     4475\n",
       "27.0     3973\n",
       "39.0     3734\n",
       "26.0     3074\n",
       "40.0     2858\n",
       "25.0     2493\n",
       "41.0     2282\n",
       "24.0     1836\n",
       "42.0     1698\n",
       "23.0     1345\n",
       "43.0     1200\n",
       "22.0      936\n",
       "44.0      787\n",
       "21.0      636\n",
       "45.0      558\n",
       "20.0      430\n",
       "46.0      351\n",
       "19.0      263\n",
       "47.0      186\n",
       "7.0       156\n",
       "         ... \n",
       "112.0      27\n",
       "98.0       27\n",
       "89.0       27\n",
       "99.0       26\n",
       "84.0       26\n",
       "81.0       25\n",
       "80.0       25\n",
       "114.0      25\n",
       "51.0       25\n",
       "85.0       25\n",
       "91.0       24\n",
       "92.0       23\n",
       "100.0      22\n",
       "110.0      22\n",
       "102.0      21\n",
       "93.0       21\n",
       "106.0      20\n",
       "83.0       20\n",
       "113.0      20\n",
       "115.0      18\n",
       "117.0      18\n",
       "90.0       17\n",
       "118.0      16\n",
       "14.0       12\n",
       "52.0       12\n",
       "13.0       10\n",
       "53.0        3\n",
       "54.0        3\n",
       "12.0        3\n",
       "11.0        2\n",
       "Name: 나이, Length: 91, dtype: int64"
      ]
     },
     "execution_count": 114,
     "metadata": {},
     "output_type": "execute_result"
    }
   ],
   "source": [
    "#결과 확인 \n",
    "userdata['나이'].value_counts()"
   ]
  },
  {
   "cell_type": "code",
   "execution_count": 115,
   "metadata": {},
   "outputs": [
    {
     "name": "stdout",
     "output_type": "stream",
     "text": [
      "<class 'pandas.core.frame.DataFrame'>\n",
      "RangeIndex: 106839 entries, 0 to 106838\n",
      "Data columns (total 13 columns):\n",
      "이름           106839 non-null object\n",
      "성별           106839 non-null object\n",
      "전화번호         106839 non-null object\n",
      "나이           96199 non-null float64\n",
      "현재 체중        106839 non-null object\n",
      "목표 체중        106839 non-null object\n",
      "키            106839 non-null object\n",
      "회원 가입일       106839 non-null object\n",
      "회원 정보 갱신일    106839 non-null object\n",
      "흡연 여부        106839 non-null bool\n",
      "음주 여부        106839 non-null object\n",
      "가입 개월 수      106839 non-null object\n",
      "개인상담 요청      106839 non-null object\n",
      "dtypes: bool(1), float64(1), object(11)\n",
      "memory usage: 5.4+ MB\n"
     ]
    }
   ],
   "source": [
    "userdata.info()"
   ]
  },
  {
   "cell_type": "markdown",
   "metadata": {},
   "source": [
    "** 4. 평균(mean) / 최소(min) / 최대(max) 나이 구하기 **"
   ]
  },
  {
   "cell_type": "code",
   "execution_count": 94,
   "metadata": {},
   "outputs": [
    {
     "name": "stdout",
     "output_type": "stream",
     "text": [
      "count    96199.000000\n",
      "mean        33.299733\n",
      "std          9.313025\n",
      "min          2.000000\n",
      "25%         29.000000\n",
      "50%         33.000000\n",
      "75%         37.000000\n",
      "max        119.000000\n",
      "Name: 나이, dtype: float64\n"
     ]
    }
   ],
   "source": [
    "#굳이 따로 할 이유가 없다 \n",
    "print(userdata['나이'].describe())"
   ]
  },
  {
   "cell_type": "markdown",
   "metadata": {},
   "source": [
    "** 5. 컬럼의 순서를 조금 더 직관적으로 바꾸기 **"
   ]
  },
  {
   "cell_type": "code",
   "execution_count": 95,
   "metadata": {},
   "outputs": [
    {
     "data": {
      "text/plain": [
       "월 2회    32214\n",
       "주 1회    32194\n",
       "월 1회    21037\n",
       "주 2회    10813\n",
       "안 마심    10581\n",
       "Name: 음주 여부, dtype: int64"
      ]
     },
     "execution_count": 95,
     "metadata": {},
     "output_type": "execute_result"
    }
   ],
   "source": [
    "userdata['음주 여부'].value_counts()"
   ]
  },
  {
   "cell_type": "markdown",
   "metadata": {},
   "source": [
    "**6. 컬럼 이름 바꾸기**\n",
    "\n",
    "* 이름 - Name\n",
    "* 성별 - Gender\n",
    "* 전화번호 - Phone Number\n",
    "* 나이 - Age\n",
    "* 현재 체중 - Current Weight\n",
    "* 목표 체종 - Goal Weight <- 스펠링 틀렸음 \n",
    "* 키 - Height\n",
    "* 흡연 여부 - Smoking\n",
    "* 음주 여부 - Drinking\n",
    "* 개인상담 요청 - Request Counselling\n",
    "* 회원 가입일 - Joined At\n",
    "* 회원 정보 갱신일 - Updated At\n",
    "* 가입 개월 수 - Paid Plan"
   ]
  },
  {
   "cell_type": "code",
   "execution_count": 96,
   "metadata": {},
   "outputs": [
    {
     "name": "stdout",
     "output_type": "stream",
     "text": [
      "<class 'pandas.core.frame.DataFrame'>\n",
      "RangeIndex: 106839 entries, 0 to 106838\n",
      "Data columns (total 13 columns):\n",
      "이름           106839 non-null object\n",
      "성별           106839 non-null object\n",
      "전화번호         106839 non-null object\n",
      "나이           96199 non-null float64\n",
      "현재 체중        106839 non-null object\n",
      "목표 체중        106839 non-null object\n",
      "키            106839 non-null object\n",
      "회원 가입일       106839 non-null object\n",
      "회원 정보 갱신일    106839 non-null object\n",
      "흡연 여부        106839 non-null bool\n",
      "음주 여부        106839 non-null object\n",
      "가입 개월 수      106839 non-null object\n",
      "개인상담 요청      106839 non-null object\n",
      "dtypes: bool(1), float64(1), object(11)\n",
      "memory usage: 5.4+ MB\n"
     ]
    }
   ],
   "source": [
    "#위의 컬럼들이 있는지 존재 여부 확인 \n",
    "userdata.info()"
   ]
  },
  {
   "cell_type": "code",
   "execution_count": 116,
   "metadata": {},
   "outputs": [],
   "source": [
    "# columns 필드 \n",
    "column_mapping = {'이름' : 'Name', \n",
    "                  '성별':'Gender', \n",
    "                  '전화번호':'Phone Number', \n",
    "                  '나이': 'Age',\n",
    "                  '현재 체중': 'Current Weight', \n",
    "                  '목표 체중': 'Goal Weight', \n",
    "                  '키': 'Height',\n",
    "                  '흡연 여부': 'Smoking', \n",
    "                  '음주 여부': 'Drinking', \n",
    "                  '개인상담 요청': 'Request Counselling',\n",
    "                  '회원 가입일': 'Joined At', \n",
    "                  '회원 정보 갱신일': 'Updated At', \n",
    "                  '가입 개월 수':'Paid Plan'}\n",
    "userdata.rename(columns = column_mapping, inplace=True)"
   ]
  },
  {
   "cell_type": "code",
   "execution_count": 117,
   "metadata": {},
   "outputs": [
    {
     "data": {
      "text/html": [
       "<div>\n",
       "<style scoped>\n",
       "    .dataframe tbody tr th:only-of-type {\n",
       "        vertical-align: middle;\n",
       "    }\n",
       "\n",
       "    .dataframe tbody tr th {\n",
       "        vertical-align: top;\n",
       "    }\n",
       "\n",
       "    .dataframe thead th {\n",
       "        text-align: right;\n",
       "    }\n",
       "</style>\n",
       "<table border=\"1\" class=\"dataframe\">\n",
       "  <thead>\n",
       "    <tr style=\"text-align: right;\">\n",
       "      <th></th>\n",
       "      <th>Name</th>\n",
       "      <th>Gender</th>\n",
       "      <th>Phone Number</th>\n",
       "      <th>Age</th>\n",
       "      <th>Current Weight</th>\n",
       "      <th>Goal Weight</th>\n",
       "      <th>Height</th>\n",
       "      <th>Joined At</th>\n",
       "      <th>Updated At</th>\n",
       "      <th>Smoking</th>\n",
       "      <th>Drinking</th>\n",
       "      <th>Paid Plan</th>\n",
       "      <th>Request Counselling</th>\n",
       "    </tr>\n",
       "  </thead>\n",
       "  <tbody>\n",
       "    <tr>\n",
       "      <th>0</th>\n",
       "      <td>안원준</td>\n",
       "      <td>남성</td>\n",
       "      <td>010-2292-6251</td>\n",
       "      <td>31.0</td>\n",
       "      <td>78</td>\n",
       "      <td>68</td>\n",
       "      <td>176</td>\n",
       "      <td>2016년 07월 05일</td>\n",
       "      <td>2016년 07월 05일</td>\n",
       "      <td>False</td>\n",
       "      <td>주 1회</td>\n",
       "      <td>0개월</td>\n",
       "      <td>아니요</td>\n",
       "    </tr>\n",
       "    <tr>\n",
       "      <th>1</th>\n",
       "      <td>유세아</td>\n",
       "      <td>여성</td>\n",
       "      <td>01045795881</td>\n",
       "      <td>39.0</td>\n",
       "      <td>56kg</td>\n",
       "      <td>51kg</td>\n",
       "      <td>172</td>\n",
       "      <td>2016년 10월 02일</td>\n",
       "      <td>2016년 11월 29일</td>\n",
       "      <td>True</td>\n",
       "      <td>월 1회</td>\n",
       "      <td>0개월</td>\n",
       "      <td>아니요</td>\n",
       "    </tr>\n",
       "    <tr>\n",
       "      <th>2</th>\n",
       "      <td>송솔은</td>\n",
       "      <td>여성</td>\n",
       "      <td>010-7719-8346</td>\n",
       "      <td>NaN</td>\n",
       "      <td>29</td>\n",
       "      <td>21</td>\n",
       "      <td>167</td>\n",
       "      <td>2017년 09월 06일</td>\n",
       "      <td>2017년 09월 06일</td>\n",
       "      <td>True</td>\n",
       "      <td>주 1회</td>\n",
       "      <td>0개월</td>\n",
       "      <td>아니요</td>\n",
       "    </tr>\n",
       "    <tr>\n",
       "      <th>3</th>\n",
       "      <td>백서원</td>\n",
       "      <td>여성</td>\n",
       "      <td>01011947169</td>\n",
       "      <td>36.0</td>\n",
       "      <td>67</td>\n",
       "      <td>65</td>\n",
       "      <td>0</td>\n",
       "      <td>2017년 06월 02일</td>\n",
       "      <td>2017년 07월 28일</td>\n",
       "      <td>True</td>\n",
       "      <td>안 마심</td>\n",
       "      <td>0개월</td>\n",
       "      <td>아니요</td>\n",
       "    </tr>\n",
       "    <tr>\n",
       "      <th>4</th>\n",
       "      <td>박서은</td>\n",
       "      <td>여성</td>\n",
       "      <td>010-2575-6398</td>\n",
       "      <td>42.0</td>\n",
       "      <td>60</td>\n",
       "      <td>57</td>\n",
       "      <td>167</td>\n",
       "      <td>2017년 05월 07일</td>\n",
       "      <td>2017년 05월 07일</td>\n",
       "      <td>False</td>\n",
       "      <td>안 마심</td>\n",
       "      <td>0개월</td>\n",
       "      <td>예</td>\n",
       "    </tr>\n",
       "  </tbody>\n",
       "</table>\n",
       "</div>"
      ],
      "text/plain": [
       "  Name Gender   Phone Number   Age Current Weight Goal Weight Height  \\\n",
       "0  안원준     남성  010-2292-6251  31.0             78          68    176   \n",
       "1  유세아     여성    01045795881  39.0           56kg        51kg    172   \n",
       "2  송솔은     여성  010-7719-8346   NaN             29          21    167   \n",
       "3  백서원     여성    01011947169  36.0             67          65      0   \n",
       "4  박서은     여성  010-2575-6398  42.0             60          57    167   \n",
       "\n",
       "       Joined At     Updated At  Smoking Drinking Paid Plan  \\\n",
       "0  2016년 07월 05일  2016년 07월 05일    False     주 1회       0개월   \n",
       "1  2016년 10월 02일  2016년 11월 29일     True     월 1회       0개월   \n",
       "2  2017년 09월 06일  2017년 09월 06일     True     주 1회       0개월   \n",
       "3  2017년 06월 02일  2017년 07월 28일     True     안 마심       0개월   \n",
       "4  2017년 05월 07일  2017년 05월 07일    False     안 마심       0개월   \n",
       "\n",
       "  Request Counselling  \n",
       "0                 아니요  \n",
       "1                 아니요  \n",
       "2                 아니요  \n",
       "3                 아니요  \n",
       "4                   예  "
      ]
     },
     "execution_count": 117,
     "metadata": {},
     "output_type": "execute_result"
    }
   ],
   "source": [
    "userdata.head()"
   ]
  },
  {
   "cell_type": "code",
   "execution_count": 101,
   "metadata": {},
   "outputs": [
    {
     "name": "stdout",
     "output_type": "stream",
     "text": [
      "<class 'pandas.core.frame.DataFrame'>\n",
      "RangeIndex: 106839 entries, 0 to 106838\n",
      "Data columns (total 13 columns):\n",
      "Name                   106839 non-null object\n",
      "Gender                 106839 non-null object\n",
      "Phone Number           106839 non-null object\n",
      "Age                    96199 non-null float64\n",
      "Current Weight         106839 non-null object\n",
      "Goal Weight            106839 non-null object\n",
      "Height                 106839 non-null object\n",
      "Joined At              106839 non-null object\n",
      "Updated At             106839 non-null object\n",
      "Smoking                106839 non-null bool\n",
      "Drinking               106839 non-null object\n",
      "Paid Plan              106839 non-null object\n",
      "Request Counselling    106839 non-null object\n",
      "dtypes: bool(1), float64(1), object(11)\n",
      "memory usage: 5.4+ MB\n"
     ]
    }
   ],
   "source": [
    "userdata.info()"
   ]
  },
  {
   "cell_type": "markdown",
   "metadata": {},
   "source": [
    "** 7. '상담 요청' 컬럼을 예/아니오 에서 True/False로 바꿔주세요 **"
   ]
  },
  {
   "cell_type": "code",
   "execution_count": 118,
   "metadata": {},
   "outputs": [
    {
     "data": {
      "text/plain": [
       "아니요    96260\n",
       "예      10579\n",
       "Name: Request Counselling, dtype: int64"
      ]
     },
     "execution_count": 118,
     "metadata": {},
     "output_type": "execute_result"
    }
   ],
   "source": [
    "#예/ 아니오 이외의 값이 있는지 확인 \n",
    "userdata['Request Counselling'].value_counts()"
   ]
  },
  {
   "cell_type": "code",
   "execution_count": 119,
   "metadata": {},
   "outputs": [
    {
     "data": {
      "text/plain": [
       "False    96260\n",
       "True     10579\n",
       "Name: Request Counselling, dtype: int64"
      ]
     },
     "execution_count": 119,
     "metadata": {},
     "output_type": "execute_result"
    }
   ],
   "source": [
    "#column : Request Counselling --> 상수 처리하고 싶은데.. \n",
    "#막상 해보니 별로네요 T_T coloring도 그렇고 \n",
    "FIELD_REQUEST_COUNSELLING = 'Request Counselling'\n",
    "reqcs_mapping = {'예': True, '아니요': False}\n",
    "\n",
    "#날려먹지 않기 위해서.. \n",
    "tmp = userdata.copy()\n",
    "tmp['Request Counselling'] = userdata['Request Counselling'].map(reqcs_mapping)\n",
    "tmp['Request Counselling'].value_counts()"
   ]
  },
  {
   "cell_type": "code",
   "execution_count": 120,
   "metadata": {},
   "outputs": [],
   "source": [
    "userdata['Request Counselling'] = tmp['Request Counselling'].copy()"
   ]
  },
  {
   "cell_type": "code",
   "execution_count": 121,
   "metadata": {},
   "outputs": [
    {
     "data": {
      "text/plain": [
       "False    96260\n",
       "True     10579\n",
       "Name: Request Counselling, dtype: int64"
      ]
     },
     "execution_count": 121,
     "metadata": {},
     "output_type": "execute_result"
    }
   ],
   "source": [
    "#예/ 아니오 이외의 값이 있는지 확인 \n",
    "userdata['Request Counselling'].value_counts()"
   ]
  },
  {
   "cell_type": "markdown",
   "metadata": {},
   "source": [
    "**8. '가입 개월 수' 컬럼을 분석해서, 무료(0개월)인 경우를 True로, 유료인 경우(3, 6, 9, 12개월)를 False로 보여주는 새로운 컬럼을 만들어주세요.**"
   ]
  },
  {
   "cell_type": "code",
   "execution_count": 122,
   "metadata": {},
   "outputs": [
    {
     "data": {
      "text/plain": [
       "0개월     74955\n",
       "3개월     21250\n",
       "6개월      7291\n",
       "12개월     3343\n",
       "Name: Paid Plan, dtype: int64"
      ]
     },
     "execution_count": 122,
     "metadata": {},
     "output_type": "execute_result"
    }
   ],
   "source": [
    "tmp['Paid Plan'].value_counts()"
   ]
  },
  {
   "cell_type": "code",
   "execution_count": 123,
   "metadata": {},
   "outputs": [
    {
     "data": {
      "text/plain": [
       "True     74955\n",
       "False    31884\n",
       "Name: Free Plan, dtype: int64"
      ]
     },
     "execution_count": 123,
     "metadata": {},
     "output_type": "execute_result"
    }
   ],
   "source": [
    "free_plan_mapping = {'0개월': True, \n",
    "                 '3개월': False, \n",
    "                 '6개월': False,\n",
    "                 '12개월': False}\n",
    "tmp['Free Plan'] = userdata['Paid Plan'].map(free_plan_mapping)\n",
    "tmp['Free Plan'].value_counts()"
   ]
  },
  {
   "cell_type": "code",
   "execution_count": 124,
   "metadata": {},
   "outputs": [],
   "source": [
    "userdata['Free Plan'] = tmp['Free Plan'].copy()"
   ]
  },
  {
   "cell_type": "code",
   "execution_count": 125,
   "metadata": {},
   "outputs": [
    {
     "data": {
      "text/plain": [
       "True     74955\n",
       "False    31884\n",
       "Name: Free Plan, dtype: int64"
      ]
     },
     "execution_count": 125,
     "metadata": {},
     "output_type": "execute_result"
    }
   ],
   "source": [
    "userdata['Free Plan'].value_counts()"
   ]
  },
  {
   "cell_type": "markdown",
   "metadata": {},
   "source": [
    "** 9. 전화번호 컬럼을 정리해주세요. 다음과 같이 정리해주시면 됩니다. **\n",
    "  * unknown 이라고 표시되어 있는 전화번호는 빈 전화번호입니다. 이를 NaN으로 바꿔주세요."
   ]
  },
  {
   "cell_type": "code",
   "execution_count": 126,
   "metadata": {},
   "outputs": [
    {
     "data": {
      "text/plain": [
       "unknown          10640\n",
       "010-7666-3598        3\n",
       "010-8264-2547        2\n",
       "010-6379-7582        2\n",
       "01043661268          2\n",
       "010-7841-6267        2\n",
       "01098246818          2\n",
       "01017949256          2\n",
       "010-3445-1541        2\n",
       "010-1452-1466        2\n",
       "01047429851          2\n",
       "010-7327-2272        2\n",
       "01098947493          2\n",
       "01061169311          2\n",
       "010-7368-3341        2\n",
       "010-5732-4136        2\n",
       "010-5228-1612        2\n",
       "010-7199-3873        2\n",
       "010-6971-7891        2\n",
       "010-5372-4837        2\n",
       "010-5941-9273        2\n",
       "010-3486-2987        2\n",
       "010-5136-5832        2\n",
       "010-7614-7816        2\n",
       "010-3932-4756        2\n",
       "01014632526          2\n",
       "01053729417          2\n",
       "010-3346-5614        2\n",
       "010-3424-8251        2\n",
       "010-8835-7372        2\n",
       "                 ...  \n",
       "010-1777-3891        1\n",
       "010-3799-5127        1\n",
       "010-5446-6474        1\n",
       "010-7147-1181        1\n",
       "010-2223-3693        1\n",
       "010-5124-3234        1\n",
       "01063223864          1\n",
       "010-9542-7363        1\n",
       "010-8484-7188        1\n",
       "010-4869-7886        1\n",
       "010-4663-5826        1\n",
       "010-6734-3653        1\n",
       "01088525112          1\n",
       "010-1368-7711        1\n",
       "01078684199          1\n",
       "010-6221-4234        1\n",
       "010-2689-1813        1\n",
       "010-8423-2549        1\n",
       "010-4181-8154        1\n",
       "01071243688          1\n",
       "010-3646-6532        1\n",
       "010-8678-4526        1\n",
       "010-2393-8839        1\n",
       "010-1448-6259        1\n",
       "010-7759-1829        1\n",
       "01093794437          1\n",
       "01021283664          1\n",
       "010-1996-2421        1\n",
       "01039974317          1\n",
       "01023932823          1\n",
       "Name: Phone Number, Length: 95189, dtype: int64"
      ]
     },
     "execution_count": 126,
     "metadata": {},
     "output_type": "execute_result"
    }
   ],
   "source": [
    "userdata['Phone Number'].value_counts()"
   ]
  },
  {
   "cell_type": "code",
   "execution_count": 132,
   "metadata": {},
   "outputs": [
    {
     "data": {
      "text/plain": [
       "10640"
      ]
     },
     "execution_count": 132,
     "metadata": {},
     "output_type": "execute_result"
    }
   ],
   "source": [
    "tmp.loc[ tmp['Phone Number'] == 'unknown', 'Phone Number'] = np.nan\n",
    "# tmp['Phone Number'].value_counts()\n",
    "tmp['Phone Number'].isnull().sum()"
   ]
  },
  {
   "cell_type": "code",
   "execution_count": 133,
   "metadata": {},
   "outputs": [],
   "source": [
    "userdata['Phone Number'] = tmp['Phone Number'].copy()"
   ]
  },
  {
   "cell_type": "code",
   "execution_count": 134,
   "metadata": {},
   "outputs": [
    {
     "data": {
      "text/plain": [
       "010-7666-3598    3\n",
       "010-2612-3244    2\n",
       "010-6379-7582    2\n",
       "01043661268      2\n",
       "010-7841-6267    2\n",
       "01098246818      2\n",
       "01017949256      2\n",
       "010-3445-1541    2\n",
       "010-1452-1466    2\n",
       "01047429851      2\n",
       "010-7327-2272    2\n",
       "01098947493      2\n",
       "01061169311      2\n",
       "010-7368-3341    2\n",
       "010-5732-4136    2\n",
       "010-5228-1612    2\n",
       "010-7199-3873    2\n",
       "010-6971-7891    2\n",
       "010-5372-4837    2\n",
       "010-5941-9273    2\n",
       "010-3486-2987    2\n",
       "010-5136-5832    2\n",
       "010-7614-7816    2\n",
       "010-3932-4756    2\n",
       "01014632526      2\n",
       "01053729417      2\n",
       "010-3346-5614    2\n",
       "010-3424-8251    2\n",
       "010-8835-7372    2\n",
       "01045283897      2\n",
       "                ..\n",
       "010-1777-3891    1\n",
       "010-3799-5127    1\n",
       "010-5446-6474    1\n",
       "010-7147-1181    1\n",
       "010-2223-3693    1\n",
       "010-5124-3234    1\n",
       "01063223864      1\n",
       "010-9542-7363    1\n",
       "010-8484-7188    1\n",
       "010-4869-7886    1\n",
       "010-4663-5826    1\n",
       "010-6734-3653    1\n",
       "01088525112      1\n",
       "010-1368-7711    1\n",
       "01078684199      1\n",
       "010-6221-4234    1\n",
       "010-2689-1813    1\n",
       "010-8423-2549    1\n",
       "010-4181-8154    1\n",
       "01071243688      1\n",
       "010-3646-6532    1\n",
       "010-8678-4526    1\n",
       "010-2393-8839    1\n",
       "010-1448-6259    1\n",
       "010-7759-1829    1\n",
       "01093794437      1\n",
       "01021283664      1\n",
       "010-1996-2421    1\n",
       "01039974317      1\n",
       "01023932823      1\n",
       "Name: Phone Number, Length: 95188, dtype: int64"
      ]
     },
     "execution_count": 134,
     "metadata": {},
     "output_type": "execute_result"
    }
   ],
   "source": [
    "#최종 확인 \n",
    "userdata['Phone Number'].value_counts()"
   ]
  },
  {
   "cell_type": "markdown",
   "metadata": {},
   "source": [
    "** 10. 키(cm) 컬럼을 정리해주세요. 다음과 같이 정리해주시면 됩니다.** \n",
    "\n",
    "* 다양한 형태로 표현되어 있는 키 컬럼(?, ?cm, ? cm 등)을 숫자로 통일해주세요.\n",
    "* 키가 0으로 되어있으면 NaN으로 바꿔주세요.\n",
    "* 키가 너무 작거나(140cm 이하) 너무 크면(210cm 이상) 마찬가지로 NaN으로 바꿔주세요."
   ]
  },
  {
   "cell_type": "code",
   "execution_count": 135,
   "metadata": {},
   "outputs": [
    {
     "data": {
      "text/plain": [
       "0         10698\n",
       "172        4813\n",
       "173        4770\n",
       "174        4680\n",
       "171        4476\n",
       "175        4456\n",
       "176        4382\n",
       "170        4331\n",
       "169        4060\n",
       "177        4046\n",
       "168        3710\n",
       "178        3527\n",
       "167        3458\n",
       "179        3198\n",
       "166        3136\n",
       "165        2751\n",
       "180        2550\n",
       "164        2322\n",
       "181        2200\n",
       "163        1998\n",
       "182        1664\n",
       "162        1542\n",
       "183        1254\n",
       "161        1193\n",
       "160         914\n",
       "184         880\n",
       "159         671\n",
       "185         605\n",
       "158         484\n",
       "173cm       484\n",
       "          ...  \n",
       "215 cm        1\n",
       "208 cm        1\n",
       "152cm         1\n",
       "130cm         1\n",
       "229 cm        1\n",
       "206 cm        1\n",
       "148           1\n",
       "152 cm        1\n",
       "246 cm        1\n",
       "225cm         1\n",
       "211 cm        1\n",
       "220 cm        1\n",
       "139 cm        1\n",
       "106cm         1\n",
       "120cm         1\n",
       "104cm         1\n",
       "108 cm        1\n",
       "240 cm        1\n",
       "111cm         1\n",
       "104 cm        1\n",
       "209cm         1\n",
       "121 cm        1\n",
       "229cm         1\n",
       "150cm         1\n",
       "221 cm        1\n",
       "237cm         1\n",
       "228 cm        1\n",
       "240cm         1\n",
       "239cm         1\n",
       "223 cm        1\n",
       "Name: Height, Length: 361, dtype: int64"
      ]
     },
     "execution_count": 135,
     "metadata": {},
     "output_type": "execute_result"
    }
   ],
   "source": [
    "tmp['Height'].value_counts()"
   ]
  },
  {
   "cell_type": "code",
   "execution_count": 136,
   "metadata": {},
   "outputs": [],
   "source": [
    "tmp['Height'].value_counts().to_csv('02-height-vc.cvs')"
   ]
  },
  {
   "cell_type": "code",
   "execution_count": 138,
   "metadata": {},
   "outputs": [],
   "source": [
    "def convert_height(ki):\n",
    "    if pd.isnull(ki):\n",
    "        return ki  #null은 그대로 두기     \n",
    "    return int(ki.replace('cm',''))\n",
    "\n",
    "tmp['Height'] = tmp['Height'].apply(convert_height)"
   ]
  },
  {
   "cell_type": "code",
   "execution_count": 139,
   "metadata": {},
   "outputs": [
    {
     "data": {
      "text/plain": [
       "0      10698\n",
       "172     5682\n",
       "173     5657\n",
       "174     5561\n",
       "175     5317\n",
       "171     5265\n",
       "176     5109\n",
       "170     5107\n",
       "169     4789\n",
       "177     4746\n",
       "168     4370\n",
       "178     4171\n",
       "167     4044\n",
       "166     3747\n",
       "179     3722\n",
       "165     3304\n",
       "180     3047\n",
       "164     2713\n",
       "181     2588\n",
       "163     2357\n",
       "182     1940\n",
       "162     1807\n",
       "183     1471\n",
       "161     1385\n",
       "160     1065\n",
       "184     1007\n",
       "159      763\n",
       "185      710\n",
       "158      559\n",
       "186      496\n",
       "       ...  \n",
       "234       18\n",
       "151       18\n",
       "237       18\n",
       "216       18\n",
       "217       18\n",
       "108       18\n",
       "223       18\n",
       "192       17\n",
       "229       17\n",
       "248       17\n",
       "236       17\n",
       "228       16\n",
       "235       16\n",
       "207       16\n",
       "244       16\n",
       "243       15\n",
       "213       15\n",
       "215       15\n",
       "227       15\n",
       "225       14\n",
       "232       11\n",
       "193       11\n",
       "194        8\n",
       "204        7\n",
       "195        4\n",
       "150        4\n",
       "149        3\n",
       "196        2\n",
       "197        1\n",
       "148        1\n",
       "Name: Height, Length: 141, dtype: int64"
      ]
     },
     "execution_count": 139,
     "metadata": {},
     "output_type": "execute_result"
    }
   ],
   "source": [
    "# 172,4813\n",
    "# 172cm,473\n",
    "# 172 cm,396\n",
    "# 172 = 5682 = 4813 + 473 + 396 = 5682 맞네 :-) \n",
    "tmp['Height'].value_counts()"
   ]
  },
  {
   "cell_type": "code",
   "execution_count": 140,
   "metadata": {},
   "outputs": [],
   "source": [
    "userdata['Height'] = tmp['Height'].copy()"
   ]
  },
  {
   "cell_type": "code",
   "execution_count": 141,
   "metadata": {},
   "outputs": [
    {
     "data": {
      "text/plain": [
       "0      10698\n",
       "172     5682\n",
       "173     5657\n",
       "174     5561\n",
       "175     5317\n",
       "171     5265\n",
       "176     5109\n",
       "170     5107\n",
       "169     4789\n",
       "177     4746\n",
       "168     4370\n",
       "178     4171\n",
       "167     4044\n",
       "166     3747\n",
       "179     3722\n",
       "165     3304\n",
       "180     3047\n",
       "164     2713\n",
       "181     2588\n",
       "163     2357\n",
       "182     1940\n",
       "162     1807\n",
       "183     1471\n",
       "161     1385\n",
       "160     1065\n",
       "184     1007\n",
       "159      763\n",
       "185      710\n",
       "158      559\n",
       "186      496\n",
       "       ...  \n",
       "234       18\n",
       "151       18\n",
       "237       18\n",
       "216       18\n",
       "217       18\n",
       "108       18\n",
       "223       18\n",
       "192       17\n",
       "229       17\n",
       "248       17\n",
       "236       17\n",
       "228       16\n",
       "235       16\n",
       "207       16\n",
       "244       16\n",
       "243       15\n",
       "213       15\n",
       "215       15\n",
       "227       15\n",
       "225       14\n",
       "232       11\n",
       "193       11\n",
       "194        8\n",
       "204        7\n",
       "195        4\n",
       "150        4\n",
       "149        3\n",
       "196        2\n",
       "197        1\n",
       "148        1\n",
       "Name: Height, Length: 141, dtype: int64"
      ]
     },
     "execution_count": 141,
     "metadata": {},
     "output_type": "execute_result"
    }
   ],
   "source": [
    "# 172     5682 검산 완료 \n",
    "userdata['Height'].value_counts()"
   ]
  },
  {
   "cell_type": "markdown",
   "metadata": {},
   "source": [
    "** 원래 정보 시스템에서는 이러한 검산을 할 필요가 없다!! **"
   ]
  },
  {
   "cell_type": "markdown",
   "metadata": {},
   "source": [
    "** 11.'현재 체중'과\t'목표 체중' 컬럼을 정리해주세요. 다음과 같이 정리해주시면 됩니다.** \n",
    "\n",
    "* 다양한 형태로 표현되어 있는 몸무게 컬럼(?, ?kg, ? kg 등)을 숫자로 통일해주세요.\n",
    "* 몸무게가 0으로 되어있으면 NaN으로 바꿔주세요.\n",
    "* 몸무게가 너무 작거나(40kg 이하) 너무 크면(150kg 이상) 마찬가지로 NaN으로 바꿔주세요."
   ]
  },
  {
   "cell_type": "code",
   "execution_count": 152,
   "metadata": {},
   "outputs": [],
   "source": [
    "tmp['Current Weight'].value_counts().to_csv('02-current-weight-vc.csv')"
   ]
  },
  {
   "cell_type": "code",
   "execution_count": 149,
   "metadata": {},
   "outputs": [
    {
     "data": {
      "text/plain": [
       "100"
      ]
     },
     "execution_count": 149,
     "metadata": {},
     "output_type": "execute_result"
    }
   ],
   "source": [
    "def convert_weight(wt):\n",
    "    if pd.isnull(wt):\n",
    "        return wt  #null은 그대로 두기 \n",
    "    v = int(wt.replace('kg',''))\n",
    "    if v == 0: \n",
    "        return np.nan\n",
    "    if v < 40 or \n",
    "\n",
    "convert_weight('100')"
   ]
  },
  {
   "cell_type": "code",
   "execution_count": 150,
   "metadata": {},
   "outputs": [
    {
     "name": "stdout",
     "output_type": "stream",
     "text": [
      "<class 'pandas.core.frame.DataFrame'>\n",
      "RangeIndex: 106839 entries, 0 to 106838\n",
      "Data columns (total 14 columns):\n",
      "Name                   106839 non-null object\n",
      "Gender                 106839 non-null object\n",
      "Phone Number           96199 non-null object\n",
      "Age                    96199 non-null float64\n",
      "Current Weight         106839 non-null object\n",
      "Goal Weight            106839 non-null object\n",
      "Height                 106839 non-null int64\n",
      "Joined At              106839 non-null object\n",
      "Updated At             106839 non-null object\n",
      "Smoking                106839 non-null bool\n",
      "Drinking               106839 non-null object\n",
      "Paid Plan              106839 non-null object\n",
      "Request Counselling    106839 non-null bool\n",
      "Free Plan              106839 non-null bool\n",
      "dtypes: bool(3), float64(1), int64(1), object(9)\n",
      "memory usage: 5.6+ MB\n"
     ]
    }
   ],
   "source": [
    "tmp.info()"
   ]
  },
  {
   "cell_type": "code",
   "execution_count": 147,
   "metadata": {},
   "outputs": [
    {
     "ename": "AttributeError",
     "evalue": "'int' object has no attribute 'isdigit'",
     "output_type": "error",
     "traceback": [
      "\u001b[1;31m---------------------------------------------------------------------------\u001b[0m",
      "\u001b[1;31mAttributeError\u001b[0m                            Traceback (most recent call last)",
      "\u001b[1;32m<ipython-input-147-2bb65126ebb2>\u001b[0m in \u001b[0;36m<module>\u001b[1;34m()\u001b[0m\n\u001b[0;32m     11\u001b[0m     \u001b[1;32mreturn\u001b[0m \u001b[0mint\u001b[0m\u001b[1;33m(\u001b[0m\u001b[0mwt\u001b[0m\u001b[1;33m.\u001b[0m\u001b[0mreplace\u001b[0m\u001b[1;33m(\u001b[0m\u001b[1;34m'kg'\u001b[0m\u001b[1;33m,\u001b[0m\u001b[1;34m''\u001b[0m\u001b[1;33m)\u001b[0m\u001b[1;33m)\u001b[0m\u001b[1;33m\u001b[0m\u001b[0m\n\u001b[0;32m     12\u001b[0m \u001b[1;33m\u001b[0m\u001b[0m\n\u001b[1;32m---> 13\u001b[1;33m \u001b[0mconvert_weight\u001b[0m\u001b[1;33m(\u001b[0m\u001b[1;36m100\u001b[0m\u001b[1;33m)\u001b[0m\u001b[1;33m\u001b[0m\u001b[0m\n\u001b[0m\u001b[0;32m     14\u001b[0m \u001b[1;33m\u001b[0m\u001b[0m\n\u001b[0;32m     15\u001b[0m \u001b[1;31m# tmp['Current Weight'] = tmp['Current Weight'].apply(convert_weight)\u001b[0m\u001b[1;33m\u001b[0m\u001b[1;33m\u001b[0m\u001b[0m\n",
      "\u001b[1;32m<ipython-input-147-2bb65126ebb2>\u001b[0m in \u001b[0;36mconvert_weight\u001b[1;34m(wt)\u001b[0m\n\u001b[0;32m      2\u001b[0m     \u001b[1;32mif\u001b[0m \u001b[0mpd\u001b[0m\u001b[1;33m.\u001b[0m\u001b[0misnull\u001b[0m\u001b[1;33m(\u001b[0m\u001b[0mwt\u001b[0m\u001b[1;33m)\u001b[0m\u001b[1;33m:\u001b[0m\u001b[1;33m\u001b[0m\u001b[0m\n\u001b[0;32m      3\u001b[0m         \u001b[1;32mreturn\u001b[0m \u001b[0mwt\u001b[0m  \u001b[1;31m#null은 그대로 두기\u001b[0m\u001b[1;33m\u001b[0m\u001b[0m\n\u001b[1;32m----> 4\u001b[1;33m     \u001b[1;32mif\u001b[0m \u001b[0mwt\u001b[0m\u001b[1;33m.\u001b[0m\u001b[0misdigit\u001b[0m\u001b[1;33m(\u001b[0m\u001b[1;33m)\u001b[0m\u001b[1;33m:\u001b[0m\u001b[1;33m\u001b[0m\u001b[0m\n\u001b[0m\u001b[0;32m      5\u001b[0m         \u001b[1;32mif\u001b[0m \u001b[0mwt\u001b[0m \u001b[1;33m==\u001b[0m \u001b[1;36m0\u001b[0m\u001b[1;33m:\u001b[0m\u001b[1;33m\u001b[0m\u001b[0m\n\u001b[0;32m      6\u001b[0m             \u001b[1;32mreturn\u001b[0m \u001b[0mpd\u001b[0m\u001b[1;33m.\u001b[0m\u001b[0mnan\u001b[0m\u001b[1;33m\u001b[0m\u001b[0m\n",
      "\u001b[1;31mAttributeError\u001b[0m: 'int' object has no attribute 'isdigit'"
     ]
    }
   ],
   "source": [
    "def convert_weight(wt):\n",
    "    if pd.isnull(wt):\n",
    "        return wt  #null은 그대로 두기 \n",
    "    if wt.isdigit(): \n",
    "        if wt == 0: \n",
    "            return pd.nan\n",
    "        if wt < 40: \n",
    "            return pd.nan\n",
    "        if wt > 150: \n",
    "            return pd.nan\n",
    "    return int(wt.replace('kg',''))\n",
    "\n",
    "convert_weight(100)\n",
    "\n",
    "# tmp['Current Weight'] = tmp['Current Weight'].apply(convert_weight)\n",
    "# tmp['Current Weight'].value_counts()"
   ]
  },
  {
   "cell_type": "markdown",
   "metadata": {},
   "source": [
    "** 12. 전체 데이터에서 평균/최소/최대 키(cm), 그리고 평균/최소/최대 '현재 체중(kg)'과 '목표 체중(kg)'을 찾아주세요. **"
   ]
  },
  {
   "cell_type": "markdown",
   "metadata": {},
   "source": [
    "** 13. 전체 데이터에서 흡연자와 비흡연자 인원의 총합을 찾아주세요. **"
   ]
  },
  {
   "cell_type": "markdown",
   "metadata": {},
   "source": [
    "** 14. 전체 데이터에서 유료 사용자와 무료 사용자의 인원의 총합을 찾아주세요. **\n",
    "\n",
    "또한 유료 사용자만 한정해서, 3개월 / 6개월 / 12개월 결제자의 인원의 총합을 찾아주세요."
   ]
  },
  {
   "cell_type": "markdown",
   "metadata": {},
   "source": [
    "** 15. 전체 데이터에서 흡연자와 음주 여부를 바탕으로 다음을 분석해주세요. **\n",
    "  1. 흡연과 음주를 둘 다 안 하는 사람의 인원 총합.\n",
    "  1. 흡연은 하지만 음주는 안 하는 사람의 인원 총합.\n",
    "  1. 흡연은 하지 않지만 음주는 하는 사람의 인원 총합.\n",
    "  1. 흡연과 음주를 둘 다 하는 사람의 인원 총합."
   ]
  }
 ],
 "metadata": {
  "kernelspec": {
   "display_name": "Python 3",
   "language": "python",
   "name": "python3"
  },
  "language_info": {
   "codemirror_mode": {
    "name": "ipython",
    "version": 3
   },
   "file_extension": ".py",
   "mimetype": "text/x-python",
   "name": "python",
   "nbconvert_exporter": "python",
   "pygments_lexer": "ipython3",
   "version": "3.6.4"
  }
 },
 "nbformat": 4,
 "nbformat_minor": 2
}
