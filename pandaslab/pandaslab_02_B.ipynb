{
 "cells": [
  {
   "cell_type": "code",
   "execution_count": 17,
   "metadata": {},
   "outputs": [],
   "source": [
    "#before \n",
    "import pandas as pd\n",
    "import numpy as np\n",
    "import matplotlib.pyplot as plt \n",
    "\n",
    "df = pd.read_csv('02-user-data.csv')"
   ]
  },
  {
   "cell_type": "code",
   "execution_count": 18,
   "metadata": {},
   "outputs": [],
   "source": [
    "# columns 필드 \n",
    "column_mapping = {'이름' : 'Name', \n",
    "                  '성별':'Gender', \n",
    "                  '전화번호':'Phone Number', \n",
    "                  '나이': 'Age',\n",
    "                  '현재 체중': 'Current Weight', \n",
    "                  '목표 체중': 'Goal Weight', \n",
    "                  '키': 'Height',\n",
    "                  '흡연 여부': 'Smoking', \n",
    "                  '음주 여부': 'Drinking', \n",
    "                  '개인상담 요청': 'Request Counselling',\n",
    "                  '회원 가입일': 'Joined At', \n",
    "                  '회원 정보 갱신일': 'Updated At', \n",
    "                  '가입 개월 수':'Paid Plan'}\n",
    "df.rename(columns = column_mapping, inplace=True)"
   ]
  },
  {
   "cell_type": "code",
   "execution_count": 29,
   "metadata": {},
   "outputs": [],
   "source": [
    "def convert_weight(wt):\n",
    "    if pd.isnull(wt):\n",
    "        return wt  #null은 그대로 두기 \n",
    "    v = int(wt.replace('kg',''))\n",
    "    if v == 0: \n",
    "        return np.nan\n",
    "    if v < 40 or v > 150: \n",
    "        return np.nan\n",
    "    return v\n",
    "\n",
    "tmp['Current Weight'] = tmp['Current Weight'].apply(convert_weight)"
   ]
  },
  {
   "cell_type": "code",
   "execution_count": 33,
   "metadata": {},
   "outputs": [],
   "source": [
    "df['Current Weight'] = tmp['Current Weight'].copy()"
   ]
  },
  {
   "cell_type": "code",
   "execution_count": 45,
   "metadata": {},
   "outputs": [],
   "source": [
    "tmp['Goal Weight'] = tmp['Goal Weight'].apply(convert_weight)"
   ]
  },
  {
   "cell_type": "code",
   "execution_count": 47,
   "metadata": {},
   "outputs": [],
   "source": [
    "df['Goal Weight'] = tmp['Goal Weight'].copy()"
   ]
  },
  {
   "cell_type": "code",
   "execution_count": 36,
   "metadata": {},
   "outputs": [],
   "source": [
    "def convert_height(ki):\n",
    "    if pd.isnull(ki):\n",
    "        return ki  #null은 그대로 두기     \n",
    "    return int(ki.replace('cm',''))\n",
    "\n",
    "tmp['Height'] = tmp['Height'].apply(convert_height)"
   ]
  },
  {
   "cell_type": "code",
   "execution_count": 38,
   "metadata": {},
   "outputs": [],
   "source": [
    "df['Height'] = tmp['Height'].copy()"
   ]
  },
  {
   "cell_type": "code",
   "execution_count": 19,
   "metadata": {},
   "outputs": [
    {
     "data": {
      "text/html": [
       "<div>\n",
       "<style scoped>\n",
       "    .dataframe tbody tr th:only-of-type {\n",
       "        vertical-align: middle;\n",
       "    }\n",
       "\n",
       "    .dataframe tbody tr th {\n",
       "        vertical-align: top;\n",
       "    }\n",
       "\n",
       "    .dataframe thead th {\n",
       "        text-align: right;\n",
       "    }\n",
       "</style>\n",
       "<table border=\"1\" class=\"dataframe\">\n",
       "  <thead>\n",
       "    <tr style=\"text-align: right;\">\n",
       "      <th></th>\n",
       "      <th>Name</th>\n",
       "      <th>Gender</th>\n",
       "      <th>Phone Number</th>\n",
       "      <th>Age</th>\n",
       "      <th>Current Weight</th>\n",
       "      <th>Goal Weight</th>\n",
       "      <th>Height</th>\n",
       "      <th>Joined At</th>\n",
       "      <th>Updated At</th>\n",
       "      <th>Smoking</th>\n",
       "      <th>Drinking</th>\n",
       "      <th>Paid Plan</th>\n",
       "      <th>Request Counselling</th>\n",
       "    </tr>\n",
       "  </thead>\n",
       "  <tbody>\n",
       "    <tr>\n",
       "      <th>0</th>\n",
       "      <td>안원준</td>\n",
       "      <td>남성</td>\n",
       "      <td>010-2292-6251</td>\n",
       "      <td>31세</td>\n",
       "      <td>78</td>\n",
       "      <td>68</td>\n",
       "      <td>176</td>\n",
       "      <td>2016년 07월 05일</td>\n",
       "      <td>2016년 07월 05일</td>\n",
       "      <td>아니오</td>\n",
       "      <td>주 1회</td>\n",
       "      <td>0개월</td>\n",
       "      <td>아니요</td>\n",
       "    </tr>\n",
       "  </tbody>\n",
       "</table>\n",
       "</div>"
      ],
      "text/plain": [
       "  Name Gender   Phone Number  Age Current Weight Goal Weight Height  \\\n",
       "0  안원준     남성  010-2292-6251  31세             78          68    176   \n",
       "\n",
       "       Joined At     Updated At Smoking Drinking Paid Plan Request Counselling  \n",
       "0  2016년 07월 05일  2016년 07월 05일     아니오     주 1회       0개월                 아니요  "
      ]
     },
     "execution_count": 19,
     "metadata": {},
     "output_type": "execute_result"
    }
   ],
   "source": [
    "df.head(1)"
   ]
  },
  {
   "cell_type": "code",
   "execution_count": 89,
   "metadata": {},
   "outputs": [],
   "source": [
    "tmp = df.copy()"
   ]
  },
  {
   "cell_type": "markdown",
   "metadata": {},
   "source": [
    "** 16. 성별 컬럼을 정리하기 **\n",
    "\n",
    "성별 컬럼을 정리해주세요.\n",
    "\n",
    "데이터를 분석해보면 남성, 여성, 남, 녀, Male, FEMALE 등의 다양한 표현이 있습니다. 이 표현을 male, female으로 통일해주세요."
   ]
  },
  {
   "cell_type": "code",
   "execution_count": 21,
   "metadata": {},
   "outputs": [
    {
     "name": "stdout",
     "output_type": "stream",
     "text": [
      "<class 'pandas.core.frame.DataFrame'>\n",
      "RangeIndex: 106839 entries, 0 to 106838\n",
      "Data columns (total 13 columns):\n",
      "Name                   106839 non-null object\n",
      "Gender                 106839 non-null object\n",
      "Phone Number           106839 non-null object\n",
      "Age                    96199 non-null object\n",
      "Current Weight         106839 non-null object\n",
      "Goal Weight            106839 non-null object\n",
      "Height                 106839 non-null object\n",
      "Joined At              106839 non-null object\n",
      "Updated At             106839 non-null object\n",
      "Smoking                106839 non-null object\n",
      "Drinking               106839 non-null object\n",
      "Paid Plan              106839 non-null object\n",
      "Request Counselling    106839 non-null object\n",
      "dtypes: object(13)\n",
      "memory usage: 5.3+ MB\n"
     ]
    }
   ],
   "source": [
    "df.info() #-> Gender는 null이 없음 "
   ]
  },
  {
   "cell_type": "code",
   "execution_count": 22,
   "metadata": {},
   "outputs": [
    {
     "data": {
      "text/plain": [
       "남성        31316\n",
       "여성        21965\n",
       "남         18802\n",
       "여         13211\n",
       "male       7047\n",
       "Male       4932\n",
       "female     4890\n",
       "Female     3579\n",
       "MALE        657\n",
       "FEMALE      440\n",
       "Name: Gender, dtype: int64"
      ]
     },
     "execution_count": 22,
     "metadata": {},
     "output_type": "execute_result"
    }
   ],
   "source": [
    "df['Gender'].value_counts()"
   ]
  },
  {
   "cell_type": "code",
   "execution_count": 23,
   "metadata": {},
   "outputs": [
    {
     "data": {
      "text/plain": [
       "male      55707\n",
       "female    39195\n",
       "Name: Gender, dtype: int64"
      ]
     },
     "execution_count": 23,
     "metadata": {},
     "output_type": "execute_result"
    }
   ],
   "source": [
    "#좀 임의적인 느낌... \n",
    "gender_mapping = {'남성': 'male',\n",
    "                  '여성': 'female',\n",
    "                  '남': 'male',\n",
    "                  '여': 'female',\n",
    "                  'Male': 'male',\n",
    "                  'Female': 'female',\n",
    "                  'MALE': 'male',\n",
    "                  'FEMALE': 'female'}                  \n",
    "tmp['Gender'] = df['Gender'].map(gender_mapping)\n",
    "tmp['Gender'].value_counts()"
   ]
  },
  {
   "cell_type": "code",
   "execution_count": 24,
   "metadata": {},
   "outputs": [
    {
     "data": {
      "text/plain": [
       "male      55707\n",
       "female    39195\n",
       "Name: Gender, dtype: int64"
      ]
     },
     "execution_count": 24,
     "metadata": {},
     "output_type": "execute_result"
    }
   ],
   "source": [
    "df['Gender'] = tmp['Gender'].copy()\n",
    "df['Gender'].value_counts()"
   ]
  },
  {
   "cell_type": "markdown",
   "metadata": {},
   "source": [
    "**17. 전체 인원이 아닌, 남성/여성 각각의 최소/평균/최대 키/몸무게/나이를 구해주세요.**\n",
    "\n",
    "결과적으로 다음의 수치가 나와야 합니다.\n",
    "  * 전체 남성의 최소/평균/최대 나이\n",
    "  * 전체 남성의 최소/평균/최대 몸무게(kg)\n",
    "  * 전체 남성의 최소/평균/최대 키(cm)\n",
    "  \n",
    "  * 전체 여성의 최소/평균/최대 나이\n",
    "  * 전체 여성의 최소/평균/최대 몸무게(kg)\n",
    "  * 전체 여성의 최소/평균/최대 키(cm)"
   ]
  },
  {
   "cell_type": "code",
   "execution_count": 25,
   "metadata": {},
   "outputs": [
    {
     "data": {
      "text/plain": [
       "count     96199\n",
       "unique      240\n",
       "top          33\n",
       "freq       6295\n",
       "Name: Age, dtype: object"
      ]
     },
     "execution_count": 25,
     "metadata": {},
     "output_type": "execute_result"
    }
   ],
   "source": [
    "df['Age'].describe()"
   ]
  },
  {
   "cell_type": "code",
   "execution_count": 26,
   "metadata": {},
   "outputs": [
    {
     "data": {
      "text/plain": [
       "count     50158\n",
       "unique      214\n",
       "top          35\n",
       "freq       3519\n",
       "Name: Age, dtype: object"
      ]
     },
     "execution_count": 26,
     "metadata": {},
     "output_type": "execute_result"
    }
   ],
   "source": [
    "#숫자가 안맞는 이유는 age에 null 이 있어서~ \n",
    "df.loc[df['Gender'] == 'male','Age'].describe()"
   ]
  },
  {
   "cell_type": "code",
   "execution_count": 35,
   "metadata": {},
   "outputs": [
    {
     "data": {
      "text/plain": [
       "count    49652.000000\n",
       "mean        80.055124\n",
       "std          6.281190\n",
       "min         66.000000\n",
       "25%         77.000000\n",
       "50%         80.000000\n",
       "75%         82.000000\n",
       "max        149.000000\n",
       "Name: Current Weight, dtype: float64"
      ]
     },
     "execution_count": 35,
     "metadata": {},
     "output_type": "execute_result"
    }
   ],
   "source": [
    "df.loc[df['Gender'] == 'male','Current Weight'].describe()"
   ]
  },
  {
   "cell_type": "code",
   "execution_count": 39,
   "metadata": {},
   "outputs": [
    {
     "data": {
      "text/plain": [
       "count    55707.000000\n",
       "mean       157.931750\n",
       "std         53.331387\n",
       "min          0.000000\n",
       "25%        171.000000\n",
       "50%        175.000000\n",
       "75%        179.000000\n",
       "max        249.000000\n",
       "Name: Height, dtype: float64"
      ]
     },
     "execution_count": 39,
     "metadata": {},
     "output_type": "execute_result"
    }
   ],
   "source": [
    "df.loc[df['Gender'] == 'male','Height'].describe()"
   ]
  },
  {
   "cell_type": "code",
   "execution_count": 40,
   "metadata": {},
   "outputs": [
    {
     "data": {
      "text/plain": [
       "count     35284\n",
       "unique      197\n",
       "top          31\n",
       "freq       2465\n",
       "Name: Age, dtype: object"
      ]
     },
     "execution_count": 40,
     "metadata": {},
     "output_type": "execute_result"
    }
   ],
   "source": [
    "df.loc[df['Gender'] == 'female','Age'].describe()"
   ]
  },
  {
   "cell_type": "code",
   "execution_count": 41,
   "metadata": {},
   "outputs": [
    {
     "data": {
      "text/plain": [
       "count    34918.000000\n",
       "mean        60.178704\n",
       "std          7.836300\n",
       "min         49.000000\n",
       "25%         57.000000\n",
       "50%         60.000000\n",
       "75%         62.000000\n",
       "max        149.000000\n",
       "Name: Current Weight, dtype: float64"
      ]
     },
     "execution_count": 41,
     "metadata": {},
     "output_type": "execute_result"
    }
   ],
   "source": [
    "df.loc[df['Gender'] == 'female','Current Weight'].describe()"
   ]
  },
  {
   "cell_type": "code",
   "execution_count": 42,
   "metadata": {},
   "outputs": [
    {
     "data": {
      "text/plain": [
       "count    39195.000000\n",
       "mean       150.578033\n",
       "std         51.340386\n",
       "min          0.000000\n",
       "25%        162.000000\n",
       "50%        167.000000\n",
       "75%        171.000000\n",
       "max        249.000000\n",
       "Name: Height, dtype: float64"
      ]
     },
     "execution_count": 42,
     "metadata": {},
     "output_type": "execute_result"
    }
   ],
   "source": [
    "df.loc[df['Gender'] == 'female','Height'].describe()"
   ]
  },
  {
   "cell_type": "markdown",
   "metadata": {},
   "source": [
    "** 18. 감량 목표를 분석하기 **\n",
    "\n",
    "데이터에서 '현재 체중' - '목표 체중' 을 하면 감량 목표가 나올 것입니다. 감량 목표를 찾아서 새로운 컬럼을 만들어주세요.\n",
    "\n",
    "또한 kg별로 감량을 원하는 사람의 총 인원을 구해주세요. 가령 1) 1kg 감량을 원하는 총 인원, 2) 2kg 감량을 원하는 총 인원, ... 10) 10kg 감량을 원하는 총 인원이 나와야 합니다."
   ]
  },
  {
   "cell_type": "code",
   "execution_count": 49,
   "metadata": {},
   "outputs": [],
   "source": [
    "df['Diet Goal'] = df['Current Weight'] - df['Goal Weight']"
   ]
  },
  {
   "cell_type": "code",
   "execution_count": 52,
   "metadata": {},
   "outputs": [
    {
     "data": {
      "text/plain": [
       "1.0     9508\n",
       "2.0     9500\n",
       "3.0     9494\n",
       "4.0     9529\n",
       "5.0     9629\n",
       "6.0     9754\n",
       "7.0     9443\n",
       "8.0     9397\n",
       "9.0     9630\n",
       "10.0    9356\n",
       "Name: Diet Goal, dtype: int64"
      ]
     },
     "execution_count": 52,
     "metadata": {},
     "output_type": "execute_result"
    }
   ],
   "source": [
    "df['Diet Goal'].value_counts().sort_index()"
   ]
  },
  {
   "cell_type": "markdown",
   "metadata": {},
   "source": [
    "** 19. '가입 개월 수'를 숫자로 표현하기 **\n",
    "\n",
    "'가입 개월 수' 컬럼을 숫자로 정리해주세요. 현재 3개월, 6개월, 12개월로 되어있는데, 이를 3, 6, 12로 정리하시면 됩니다.\n",
    "\n",
    "또한 0개월은 0이 아닌 NaN으로 집어넣어 주세요."
   ]
  },
  {
   "cell_type": "code",
   "execution_count": 56,
   "metadata": {},
   "outputs": [
    {
     "data": {
      "text/plain": [
       "0개월     74955\n",
       "3개월     21250\n",
       "6개월      7291\n",
       "12개월     3343\n",
       "Name: Paid Plan, dtype: int64"
      ]
     },
     "execution_count": 56,
     "metadata": {},
     "output_type": "execute_result"
    }
   ],
   "source": [
    "df['Paid Plan'].value_counts()"
   ]
  },
  {
   "cell_type": "code",
   "execution_count": 59,
   "metadata": {},
   "outputs": [],
   "source": [
    "def convert_paid_plan(plan):\n",
    "    if pd.isnull(plan):\n",
    "        return plan  #null은 그대로 두기\n",
    "    v = int(plan.replace('개월',''))\n",
    "    if v == 0:\n",
    "        return np.NaN\n",
    "    return v\n",
    "\n",
    "tmp['Paid Plan'] = tmp['Paid Plan'].apply(convert_paid_plan)"
   ]
  },
  {
   "cell_type": "code",
   "execution_count": 60,
   "metadata": {},
   "outputs": [
    {
     "data": {
      "text/plain": [
       "3.0     21250\n",
       "6.0      7291\n",
       "12.0     3343\n",
       "Name: Paid Plan, dtype: int64"
      ]
     },
     "execution_count": 60,
     "metadata": {},
     "output_type": "execute_result"
    }
   ],
   "source": [
    "tmp['Paid Plan'].value_counts()"
   ]
  },
  {
   "cell_type": "code",
   "execution_count": 61,
   "metadata": {},
   "outputs": [
    {
     "data": {
      "text/plain": [
       "74955"
      ]
     },
     "execution_count": 61,
     "metadata": {},
     "output_type": "execute_result"
    }
   ],
   "source": [
    "tmp['Paid Plan'].isnull().sum()"
   ]
  },
  {
   "cell_type": "code",
   "execution_count": 64,
   "metadata": {},
   "outputs": [],
   "source": [
    "df['Paid Plan'] = tmp['Paid Plan'].copy()"
   ]
  },
  {
   "cell_type": "code",
   "execution_count": 65,
   "metadata": {},
   "outputs": [
    {
     "data": {
      "text/plain": [
       "3.0     21250\n",
       "6.0      7291\n",
       "12.0     3343\n",
       "Name: Paid Plan, dtype: int64"
      ]
     },
     "execution_count": 65,
     "metadata": {},
     "output_type": "execute_result"
    }
   ],
   "source": [
    "df['Paid Plan'].value_counts()"
   ]
  },
  {
   "cell_type": "markdown",
   "metadata": {},
   "source": [
    "** 20. '음주 여부'를 숫자로 표현하기**\n",
    "\n",
    "'음주 여부' 컬럼을 숫자로 정리해주세요. 현재 1) 주 2회, 2) 주 1회, 3) 월 2회, 4) 월 1회 5) 안 마심으로 되어 있습니다만, 이를 월 기준 음주 횟수로 통일해주세요. 여기서 월은 30일로, 주는 4주로 고정합니다.\n",
    "\n",
    "가령 1) 주 2회는 8, 2) 주 1회는 4, 3) 월 2회는 2, 4) 월 1회는 1, 5) 안 마심은 0으로 표현하면 됩니다."
   ]
  },
  {
   "cell_type": "code",
   "execution_count": 67,
   "metadata": {},
   "outputs": [
    {
     "data": {
      "text/plain": [
       "월 2회    32214\n",
       "주 1회    32194\n",
       "월 1회    21037\n",
       "주 2회    10813\n",
       "안 마심    10581\n",
       "Name: Drinking, dtype: int64"
      ]
     },
     "execution_count": 67,
     "metadata": {},
     "output_type": "execute_result"
    }
   ],
   "source": [
    "df['Drinking'].value_counts()"
   ]
  },
  {
   "cell_type": "code",
   "execution_count": 72,
   "metadata": {},
   "outputs": [
    {
     "data": {
      "text/plain": [
       "2    32214\n",
       "4    32194\n",
       "1    21037\n",
       "8    10813\n",
       "0    10581\n",
       "Name: Drinking, dtype: int64"
      ]
     },
     "execution_count": 72,
     "metadata": {},
     "output_type": "execute_result"
    }
   ],
   "source": [
    "drinking_mapping = {'월 2회': 2,\n",
    "                  '주 1회': 4,\n",
    "                  '월 1회': 1,\n",
    "                  '주 2회': 8,\n",
    "                  '안 마심': 0}                  \n",
    "tmp['Drinking'] = df['Drinking'].map(drinking_mapping)\n",
    "tmp['Drinking'].value_counts()"
   ]
  },
  {
   "cell_type": "code",
   "execution_count": 74,
   "metadata": {},
   "outputs": [],
   "source": [
    "df['Drinking'] = tmp['Drinking'].copy()"
   ]
  },
  {
   "cell_type": "code",
   "execution_count": 75,
   "metadata": {},
   "outputs": [
    {
     "data": {
      "text/plain": [
       "2    32214\n",
       "4    32194\n",
       "1    21037\n",
       "8    10813\n",
       "0    10581\n",
       "Name: Drinking, dtype: int64"
      ]
     },
     "execution_count": 75,
     "metadata": {},
     "output_type": "execute_result"
    }
   ],
   "source": [
    "df['Drinking'].value_counts()"
   ]
  },
  {
   "cell_type": "markdown",
   "metadata": {},
   "source": [
    "** 21.휴대폰 번호 정리하기 **\n",
    "\n",
    "다양한 표현으로 되어있는 휴대폰 번호를 010-xxxx-xxxx 로 통일해주세요. 가령 휴대폰 번호에 하이픈이 없으면 넣어주시면 됩니다.\n",
    "\n",
    "또한 unknown으로 되어있거나 비어있는 값은 NaN으로 처리해주세요."
   ]
  },
  {
   "cell_type": "code",
   "execution_count": 92,
   "metadata": {},
   "outputs": [],
   "source": [
    "df['Phone Number'].value_counts().to_csv('02-phonenumber-vc.cvs')"
   ]
  },
  {
   "cell_type": "code",
   "execution_count": 93,
   "metadata": {},
   "outputs": [
    {
     "data": {
      "text/plain": [
       "0"
      ]
     },
     "execution_count": 93,
     "metadata": {},
     "output_type": "execute_result"
    }
   ],
   "source": [
    "df['Phone Number'].isnull().sum()"
   ]
  },
  {
   "cell_type": "code",
   "execution_count": 94,
   "metadata": {},
   "outputs": [
    {
     "data": {
      "text/plain": [
       "0"
      ]
     },
     "execution_count": 94,
     "metadata": {},
     "output_type": "execute_result"
    }
   ],
   "source": [
    "tmp['Phone Number'].isnull().sum()"
   ]
  },
  {
   "cell_type": "code",
   "execution_count": 96,
   "metadata": {},
   "outputs": [
    {
     "name": "stdout",
     "output_type": "stream",
     "text": [
      "010-4195-4788\n",
      "010-7622-7957\n"
     ]
    }
   ],
   "source": [
    "def phone_format(str):\n",
    "    if str == 'unknown':\n",
    "        return np.NaN\n",
    "    \n",
    "    n = str.replace('-','')\n",
    "    return n[0:3] + '-' + n[3:7] + '-' + n[7:]\n",
    "    \n",
    "print(phone_format('01041954788'))\n",
    "print(phone_format('010-7622-7957'))\n",
    "\n",
    "tmp['Phone Number'] = tmp['Phone Number'].apply(phone_format)\n",
    "tmp['Phone Number'].value_counts().to_csv('02-phonenumber-vc-after.cvs')"
   ]
  },
  {
   "cell_type": "code",
   "execution_count": 97,
   "metadata": {},
   "outputs": [],
   "source": [
    "df['Phone Number'] = tmp['Phone Number'].copy()"
   ]
  },
  {
   "cell_type": "markdown",
   "metadata": {},
   "source": [
    "** 22. 날짜를 사용 가능하게 정리하기 **\n",
    "\n",
    "현재 '회원 가입일' 컬럼과 '회원 정보 갱신일' 컬럼은 20xx년 xx월 xx일 과 같은 형식으로 되어있습니다.\n",
    "\n",
    "이 데이터를 현재 판다스에서는 날짜 컬럼이 아닌 문자열(텍스트) 컬럼으로 인식하고 있는데, 이 컬럼을 날짜 컬럼으로 인식할 수 있도록 수정해주세요."
   ]
  },
  {
   "cell_type": "code",
   "execution_count": 99,
   "metadata": {},
   "outputs": [],
   "source": [
    "df['Joined At'].value_counts().to_csv('02-joined-at.csv')\n",
    "df['Updated At'].value_counts().to_csv('02-updated-at.csv')"
   ]
  },
  {
   "cell_type": "code",
   "execution_count": 109,
   "metadata": {},
   "outputs": [
    {
     "name": "stdout",
     "output_type": "stream",
     "text": [
      "2016-03-13 00:00:00\n",
      "2017-10-07 00:00:00\n",
      "<class 'datetime.datetime'>\n"
     ]
    }
   ],
   "source": [
    "import datetime \n",
    "\n",
    "def date_format(str):\n",
    "    if str == 'unknown':\n",
    "        return np.NaN\n",
    "    \n",
    "    n = str.replace('년','')\n",
    "    n = n.replace('월','')\n",
    "    n = n.replace('일','').strip()\n",
    "    return datetime.datetime.strptime(n, '%Y %m %d')\n",
    "\n",
    "print(date_format('2016년 03월 13일'))\n",
    "print(date_format('2017년 10월 07일'))\n",
    "\n",
    "v = date_format('2016년 03월 13일')\n",
    "print(type(v))"
   ]
  },
  {
   "cell_type": "code",
   "execution_count": 113,
   "metadata": {},
   "outputs": [],
   "source": [
    "tmp['Joined At'] = tmp['Joined At'].apply(date_format)\n",
    "tmp['Updated At'] = tmp['Updated At'].apply(date_format)"
   ]
  },
  {
   "cell_type": "code",
   "execution_count": 114,
   "metadata": {},
   "outputs": [
    {
     "name": "stdout",
     "output_type": "stream",
     "text": [
      "<class 'pandas.core.frame.DataFrame'>\n",
      "RangeIndex: 106839 entries, 0 to 106838\n",
      "Data columns (total 14 columns):\n",
      "Name                   106839 non-null object\n",
      "Gender                 94902 non-null object\n",
      "Phone Number           96199 non-null object\n",
      "Age                    96199 non-null object\n",
      "Current Weight         95245 non-null float64\n",
      "Goal Weight            95240 non-null float64\n",
      "Height                 106839 non-null int64\n",
      "Joined At              106839 non-null datetime64[ns]\n",
      "Updated At             106839 non-null datetime64[ns]\n",
      "Smoking                106839 non-null object\n",
      "Drinking               106839 non-null int64\n",
      "Paid Plan              31884 non-null float64\n",
      "Request Counselling    106839 non-null object\n",
      "Diet Goal              95240 non-null float64\n",
      "dtypes: datetime64[ns](2), float64(4), int64(2), object(6)\n",
      "memory usage: 9.0+ MB\n"
     ]
    }
   ],
   "source": [
    "#왜 datetime으로 안바뀌지? T_T \n",
    "tmp.info()"
   ]
  },
  {
   "cell_type": "code",
   "execution_count": 115,
   "metadata": {},
   "outputs": [],
   "source": [
    "df['Joined At'] = tmp['Joined At'].copy()\n",
    "df['Updated At'] = tmp['Updated At'].copy()"
   ]
  },
  {
   "cell_type": "markdown",
   "metadata": {},
   "source": [
    "** 23. 날짜를 기준으로 분석하기 **\n",
    "\n",
    "22번에서 날짜 컬럼을 만들었으면 다음을 분석해주세요.\n",
    "\n",
    "1. 월별 전체 회원 가입량\n",
    "2. 월 별 유료/무료 회원 가입량의 차이\n",
    "3. 월 별 남성/여성 회원 가입량의 차이"
   ]
  },
  {
   "cell_type": "code",
   "execution_count": 117,
   "metadata": {},
   "outputs": [
    {
     "data": {
      "text/html": [
       "<div>\n",
       "<style scoped>\n",
       "    .dataframe tbody tr th:only-of-type {\n",
       "        vertical-align: middle;\n",
       "    }\n",
       "\n",
       "    .dataframe tbody tr th {\n",
       "        vertical-align: top;\n",
       "    }\n",
       "\n",
       "    .dataframe thead th {\n",
       "        text-align: right;\n",
       "    }\n",
       "</style>\n",
       "<table border=\"1\" class=\"dataframe\">\n",
       "  <thead>\n",
       "    <tr style=\"text-align: right;\">\n",
       "      <th></th>\n",
       "      <th>Name</th>\n",
       "      <th>Gender</th>\n",
       "      <th>Phone Number</th>\n",
       "      <th>Age</th>\n",
       "      <th>Current Weight</th>\n",
       "      <th>Goal Weight</th>\n",
       "      <th>Height</th>\n",
       "      <th>Joined At</th>\n",
       "      <th>Updated At</th>\n",
       "      <th>Smoking</th>\n",
       "      <th>Drinking</th>\n",
       "      <th>Paid Plan</th>\n",
       "      <th>Request Counselling</th>\n",
       "      <th>Diet Goal</th>\n",
       "    </tr>\n",
       "  </thead>\n",
       "  <tbody>\n",
       "    <tr>\n",
       "      <th>0</th>\n",
       "      <td>안원준</td>\n",
       "      <td>male</td>\n",
       "      <td>010-2292-6251</td>\n",
       "      <td>31세</td>\n",
       "      <td>78.0</td>\n",
       "      <td>68.0</td>\n",
       "      <td>176</td>\n",
       "      <td>2016-07-05</td>\n",
       "      <td>2016-07-05</td>\n",
       "      <td>아니오</td>\n",
       "      <td>4</td>\n",
       "      <td>NaN</td>\n",
       "      <td>아니요</td>\n",
       "      <td>10.0</td>\n",
       "    </tr>\n",
       "  </tbody>\n",
       "</table>\n",
       "</div>"
      ],
      "text/plain": [
       "  Name Gender   Phone Number  Age  Current Weight  Goal Weight  Height  \\\n",
       "0  안원준   male  010-2292-6251  31세            78.0         68.0     176   \n",
       "\n",
       "   Joined At Updated At Smoking  Drinking  Paid Plan Request Counselling  \\\n",
       "0 2016-07-05 2016-07-05     아니오         4        NaN                 아니요   \n",
       "\n",
       "   Diet Goal  \n",
       "0       10.0  "
      ]
     },
     "execution_count": 117,
     "metadata": {},
     "output_type": "execute_result"
    }
   ],
   "source": [
    "#sample data로 먼저 해보자 \n",
    "df.head(1)"
   ]
  },
  {
   "cell_type": "code",
   "execution_count": 143,
   "metadata": {},
   "outputs": [],
   "source": [
    "# df.groupby(pd.Grouper(freq=\"M\")).sum()\n",
    "# In [23]: per = df.Date.dt.to_period(\"M\")  # new way to get the same\n",
    "\n",
    "# In [24]: g = df.groupby(per)\n",
    "\n",
    "# In [25]: g.sum()\n",
    "\n",
    "#요건 일별이고 \n",
    "# df.groupby(df[\"Joined At\"]).sum()\n",
    "\n",
    "tmp = tmp.set_index(tmp['Joined At'])"
   ]
  },
  {
   "cell_type": "code",
   "execution_count": 146,
   "metadata": {},
   "outputs": [],
   "source": [
    "tmp['One'] = 1"
   ]
  },
  {
   "cell_type": "markdown",
   "metadata": {},
   "source": [
    "#### 1.월 별 유료/무료 회원 가입량의 차이"
   ]
  },
  {
   "cell_type": "code",
   "execution_count": 151,
   "metadata": {},
   "outputs": [
    {
     "data": {
      "text/plain": [
       "Joined At\n",
       "2016-01-31    4407\n",
       "2016-02-29    4242\n",
       "2016-03-31    4434\n",
       "2016-04-30    4427\n",
       "2016-05-31    4604\n",
       "Freq: M, Name: One, dtype: int64"
      ]
     },
     "execution_count": 151,
     "metadata": {},
     "output_type": "execute_result"
    }
   ],
   "source": [
    "tmp.resample('M').sum()['One'].head()"
   ]
  },
  {
   "cell_type": "markdown",
   "metadata": {},
   "source": [
    "#### 2. 월 별 유료/무료 회원 가입량의 차이"
   ]
  },
  {
   "cell_type": "code",
   "execution_count": 184,
   "metadata": {},
   "outputs": [],
   "source": [
    "t_free = tmp.loc[tmp['Paid Plan'].isna(), 'One'].resample('M').sum()\n",
    "t_paid = tmp.loc[~tmp['Paid Plan'].isna(), 'One'].resample('M').sum()"
   ]
  },
  {
   "cell_type": "code",
   "execution_count": 188,
   "metadata": {},
   "outputs": [
    {
     "data": {
      "text/html": [
       "<div>\n",
       "<style scoped>\n",
       "    .dataframe tbody tr th:only-of-type {\n",
       "        vertical-align: middle;\n",
       "    }\n",
       "\n",
       "    .dataframe tbody tr th {\n",
       "        vertical-align: top;\n",
       "    }\n",
       "\n",
       "    .dataframe thead th {\n",
       "        text-align: right;\n",
       "    }\n",
       "</style>\n",
       "<table border=\"1\" class=\"dataframe\">\n",
       "  <thead>\n",
       "    <tr style=\"text-align: right;\">\n",
       "      <th></th>\n",
       "      <th>Free/mon</th>\n",
       "    </tr>\n",
       "    <tr>\n",
       "      <th>Joined At</th>\n",
       "      <th></th>\n",
       "    </tr>\n",
       "  </thead>\n",
       "  <tbody>\n",
       "    <tr>\n",
       "      <th>2016-01-31</th>\n",
       "      <td>3048</td>\n",
       "    </tr>\n",
       "  </tbody>\n",
       "</table>\n",
       "</div>"
      ],
      "text/plain": [
       "            Free/mon\n",
       "Joined At           \n",
       "2016-01-31      3048"
      ]
     },
     "execution_count": 188,
     "metadata": {},
     "output_type": "execute_result"
    }
   ],
   "source": [
    "df_free = t_free.to_frame()\n",
    "# df_free.info()\n",
    "df2_free = df_free.rename(columns={'One' : 'Free/mon'})\n",
    "df2_free.head(1)"
   ]
  },
  {
   "cell_type": "code",
   "execution_count": 189,
   "metadata": {},
   "outputs": [
    {
     "data": {
      "text/html": [
       "<div>\n",
       "<style scoped>\n",
       "    .dataframe tbody tr th:only-of-type {\n",
       "        vertical-align: middle;\n",
       "    }\n",
       "\n",
       "    .dataframe tbody tr th {\n",
       "        vertical-align: top;\n",
       "    }\n",
       "\n",
       "    .dataframe thead th {\n",
       "        text-align: right;\n",
       "    }\n",
       "</style>\n",
       "<table border=\"1\" class=\"dataframe\">\n",
       "  <thead>\n",
       "    <tr style=\"text-align: right;\">\n",
       "      <th></th>\n",
       "      <th>Paid/mon</th>\n",
       "    </tr>\n",
       "    <tr>\n",
       "      <th>Joined At</th>\n",
       "      <th></th>\n",
       "    </tr>\n",
       "  </thead>\n",
       "  <tbody>\n",
       "    <tr>\n",
       "      <th>2016-01-31</th>\n",
       "      <td>1359</td>\n",
       "    </tr>\n",
       "  </tbody>\n",
       "</table>\n",
       "</div>"
      ],
      "text/plain": [
       "            Paid/mon\n",
       "Joined At           \n",
       "2016-01-31      1359"
      ]
     },
     "execution_count": 189,
     "metadata": {},
     "output_type": "execute_result"
    }
   ],
   "source": [
    "df_paid = t_paid.to_frame()\n",
    "# df_free.info()\n",
    "df2_paid = df_paid.rename(columns={'One' : 'Paid/mon'})\n",
    "df2_paid.head(1)"
   ]
  },
  {
   "cell_type": "code",
   "execution_count": 192,
   "metadata": {},
   "outputs": [],
   "source": [
    "df2_paid['Free/Mon'] = t_free"
   ]
  },
  {
   "cell_type": "code",
   "execution_count": 194,
   "metadata": {},
   "outputs": [
    {
     "data": {
      "text/html": [
       "<div>\n",
       "<style scoped>\n",
       "    .dataframe tbody tr th:only-of-type {\n",
       "        vertical-align: middle;\n",
       "    }\n",
       "\n",
       "    .dataframe tbody tr th {\n",
       "        vertical-align: top;\n",
       "    }\n",
       "\n",
       "    .dataframe thead th {\n",
       "        text-align: right;\n",
       "    }\n",
       "</style>\n",
       "<table border=\"1\" class=\"dataframe\">\n",
       "  <thead>\n",
       "    <tr style=\"text-align: right;\">\n",
       "      <th></th>\n",
       "      <th>Paid/mon</th>\n",
       "      <th>Free/Mon</th>\n",
       "    </tr>\n",
       "    <tr>\n",
       "      <th>Joined At</th>\n",
       "      <th></th>\n",
       "      <th></th>\n",
       "    </tr>\n",
       "  </thead>\n",
       "  <tbody>\n",
       "    <tr>\n",
       "      <th>2016-01-31</th>\n",
       "      <td>1359</td>\n",
       "      <td>3048</td>\n",
       "    </tr>\n",
       "    <tr>\n",
       "      <th>2016-02-29</th>\n",
       "      <td>1270</td>\n",
       "      <td>2972</td>\n",
       "    </tr>\n",
       "    <tr>\n",
       "      <th>2016-03-31</th>\n",
       "      <td>1353</td>\n",
       "      <td>3081</td>\n",
       "    </tr>\n",
       "    <tr>\n",
       "      <th>2016-04-30</th>\n",
       "      <td>1318</td>\n",
       "      <td>3109</td>\n",
       "    </tr>\n",
       "    <tr>\n",
       "      <th>2016-05-31</th>\n",
       "      <td>1366</td>\n",
       "      <td>3238</td>\n",
       "    </tr>\n",
       "  </tbody>\n",
       "</table>\n",
       "</div>"
      ],
      "text/plain": [
       "            Paid/mon  Free/Mon\n",
       "Joined At                     \n",
       "2016-01-31      1359      3048\n",
       "2016-02-29      1270      2972\n",
       "2016-03-31      1353      3081\n",
       "2016-04-30      1318      3109\n",
       "2016-05-31      1366      3238"
      ]
     },
     "execution_count": 194,
     "metadata": {},
     "output_type": "execute_result"
    }
   ],
   "source": [
    "df2_paid.head()"
   ]
  },
  {
   "cell_type": "markdown",
   "metadata": {},
   "source": [
    "#### 3. 월 별 남성/여성 회원 가입량의 차이"
   ]
  },
  {
   "cell_type": "code",
   "execution_count": 196,
   "metadata": {},
   "outputs": [
    {
     "data": {
      "text/plain": [
       "male      55707\n",
       "female    39195\n",
       "Name: Gender, dtype: int64"
      ]
     },
     "execution_count": 196,
     "metadata": {},
     "output_type": "execute_result"
    }
   ],
   "source": [
    "tmp['Gender'].value_counts()"
   ]
  },
  {
   "cell_type": "code",
   "execution_count": 198,
   "metadata": {},
   "outputs": [
    {
     "data": {
      "text/html": [
       "<div>\n",
       "<style scoped>\n",
       "    .dataframe tbody tr th:only-of-type {\n",
       "        vertical-align: middle;\n",
       "    }\n",
       "\n",
       "    .dataframe tbody tr th {\n",
       "        vertical-align: top;\n",
       "    }\n",
       "\n",
       "    .dataframe thead th {\n",
       "        text-align: right;\n",
       "    }\n",
       "</style>\n",
       "<table border=\"1\" class=\"dataframe\">\n",
       "  <thead>\n",
       "    <tr style=\"text-align: right;\">\n",
       "      <th></th>\n",
       "      <th>Male/Month</th>\n",
       "      <th>Female/Month</th>\n",
       "    </tr>\n",
       "    <tr>\n",
       "      <th>Joined At</th>\n",
       "      <th></th>\n",
       "      <th></th>\n",
       "    </tr>\n",
       "  </thead>\n",
       "  <tbody>\n",
       "    <tr>\n",
       "      <th>2016-01-31</th>\n",
       "      <td>2316</td>\n",
       "      <td>1619</td>\n",
       "    </tr>\n",
       "    <tr>\n",
       "      <th>2016-02-29</th>\n",
       "      <td>2208</td>\n",
       "      <td>1566</td>\n",
       "    </tr>\n",
       "    <tr>\n",
       "      <th>2016-03-31</th>\n",
       "      <td>2247</td>\n",
       "      <td>1675</td>\n",
       "    </tr>\n",
       "    <tr>\n",
       "      <th>2016-04-30</th>\n",
       "      <td>2314</td>\n",
       "      <td>1619</td>\n",
       "    </tr>\n",
       "    <tr>\n",
       "      <th>2016-05-31</th>\n",
       "      <td>2393</td>\n",
       "      <td>1700</td>\n",
       "    </tr>\n",
       "  </tbody>\n",
       "</table>\n",
       "</div>"
      ],
      "text/plain": [
       "            Male/Month  Female/Month\n",
       "Joined At                           \n",
       "2016-01-31        2316          1619\n",
       "2016-02-29        2208          1566\n",
       "2016-03-31        2247          1675\n",
       "2016-04-30        2314          1619\n",
       "2016-05-31        2393          1700"
      ]
     },
     "execution_count": 198,
     "metadata": {},
     "output_type": "execute_result"
    }
   ],
   "source": [
    "t_male = tmp.loc[tmp['Gender'] == 'male', 'One'].resample('M').sum()\n",
    "t_female = tmp.loc[tmp['Gender'] == 'female', 'One'].resample('M').sum()\n",
    "df2 = t_male.to_frame()\n",
    "df2 = df2.rename(columns={'One' : 'Male/Month'})\n",
    "df2['Female/Month'] = t_female\n",
    "df2.head()"
   ]
  },
  {
   "cell_type": "markdown",
   "metadata": {},
   "source": [
    "** 24. 회원 정보가 맞는지 여부를 확인하는 컬럼을 만들기 **\n",
    "\n",
    "더 정확한 데이터 분석을 위해서는, 현재까지 고객님이 기업한 회원 정보가 정확한지를 확인하는 작업이 필요합니다. 분석팀에서 데이터를 다음과 같이 정리하면, 오퍼레이션 팀과 코칭 팀이 협업을 통해서 고객 정보를 개선하고, 더 좋은 서비스를 제공할 수 있을 것 같습니다. 다음의 내용이 담겨있는 새로운 컬럼을 하나 만들어주세요. 해당 컬럼에는 reject / counselling / duplicated / confirmed 라는 결과값이 들어가야 합니다.\n",
    "\n",
    "다음의 경우에는 재기입을 요청한다. (reject)\n",
    "* 전화번호가 비어있는 경우\n",
    "\n",
    "다음의 경우는 트레이너와 상담을 유도한다. (counselling)\n",
    "* 상담 요청(counselling)이 True인 사람.\n",
    "\n",
    "다음의 경우에는 중복을 확인한다. (duplicated)\n",
    "* 동일한 이름에 동일한 전화번호를 찾아낸다. 이는 중복되었다고 가정한다.\n",
    "\n",
    "나머지는 문제가 없다. (confirmed)"
   ]
  },
  {
   "cell_type": "code",
   "execution_count": 206,
   "metadata": {},
   "outputs": [],
   "source": [
    "tmp['Result'] = 'confirmed'"
   ]
  },
  {
   "cell_type": "code",
   "execution_count": 207,
   "metadata": {},
   "outputs": [],
   "source": [
    "tmp.loc[tmp['Phone Number'].isna(), 'Result'] = 'rejected'\n",
    "tmp.loc[tmp['Request Counselling'] == '예', 'Result'] = 'counselling' ##원래 True/Fale로 바꿔야 함 \n",
    "## duplicated는 모르겠다. "
   ]
  },
  {
   "cell_type": "code",
   "execution_count": 208,
   "metadata": {},
   "outputs": [
    {
     "data": {
      "text/plain": [
       "confirmed      86682\n",
       "counselling    10579\n",
       "rejected        9578\n",
       "Name: Result, dtype: int64"
      ]
     },
     "execution_count": 208,
     "metadata": {},
     "output_type": "execute_result"
    }
   ],
   "source": [
    "tmp['Result'].value_counts()"
   ]
  },
  {
   "cell_type": "markdown",
   "metadata": {},
   "source": [
    "**25. VIP 찾아내기**\n",
    "\n",
    "다음의 고객을 특별 관리 대상으로 지정합니다. 특별 관리 대상이라고 함은, TKX 서비스의 VIP 플랜을 구매할 확률이 높은 분들을 의미합니다.\n",
    "\n",
    "1. 트레이너와 상담을 요청한 사람. (counselling)\n",
    "2. 상담을 요청하지 않은 사람 중, (현재 체중 - 목표 체중) 이 가장 높은 상위 1,000 명.\n",
    "\n",
    "이 사람들을 특별관리 대상으로 지정하며, VIP라는 이름의 컬럼에 True 값을 넣으면 됩니다. 이후에는 오퍼레이션/코치 팀이 해당 고객님을 개별 컨택하여, 적극적으로 VIP 플랜을 구매하실 수 있도록 노력할 생각입니다. (특별관리 대상이 아닌 분들은 VIP 컬럼에 False 값을 넣으면 됩니다)\n",
    "\n",
    "또한 전체 데이터와는 별개로, VIP 고객들만을 따로 뽑아내서 CSV파일로 저장할 수 있다면 좋겠습니다."
   ]
  },
  {
   "cell_type": "code",
   "execution_count": 216,
   "metadata": {},
   "outputs": [],
   "source": [
    "tmp['VIP'] = False\n",
    "tmp.loc[tmp['Result'] == 'counselling', 'VIP'] = True\n",
    "tmp.loc[tmp['Phone Number'].isna(), 'VIP'] = False ## 이건 필터 \n",
    "# 2번은 별도 df를 따서 해야 할 듯 \n",
    "vip = tmp.loc[tmp['VIP'],['Name','Phone Number','VIP']]\n",
    "vip.to_csv('02-vip.csv')"
   ]
  },
  {
   "cell_type": "code",
   "execution_count": 210,
   "metadata": {},
   "outputs": [
    {
     "data": {
      "text/html": [
       "<div>\n",
       "<style scoped>\n",
       "    .dataframe tbody tr th:only-of-type {\n",
       "        vertical-align: middle;\n",
       "    }\n",
       "\n",
       "    .dataframe tbody tr th {\n",
       "        vertical-align: top;\n",
       "    }\n",
       "\n",
       "    .dataframe thead th {\n",
       "        text-align: right;\n",
       "    }\n",
       "</style>\n",
       "<table border=\"1\" class=\"dataframe\">\n",
       "  <thead>\n",
       "    <tr style=\"text-align: right;\">\n",
       "      <th></th>\n",
       "      <th>Name</th>\n",
       "      <th>Gender</th>\n",
       "      <th>Phone Number</th>\n",
       "      <th>Age</th>\n",
       "      <th>Current Weight</th>\n",
       "      <th>Goal Weight</th>\n",
       "      <th>Height</th>\n",
       "      <th>Joined At</th>\n",
       "      <th>Updated At</th>\n",
       "      <th>Smoking</th>\n",
       "      <th>Drinking</th>\n",
       "      <th>Paid Plan</th>\n",
       "      <th>Request Counselling</th>\n",
       "      <th>Diet Goal</th>\n",
       "      <th>One</th>\n",
       "      <th>Result</th>\n",
       "      <th>VIP</th>\n",
       "    </tr>\n",
       "    <tr>\n",
       "      <th>Joined At</th>\n",
       "      <th></th>\n",
       "      <th></th>\n",
       "      <th></th>\n",
       "      <th></th>\n",
       "      <th></th>\n",
       "      <th></th>\n",
       "      <th></th>\n",
       "      <th></th>\n",
       "      <th></th>\n",
       "      <th></th>\n",
       "      <th></th>\n",
       "      <th></th>\n",
       "      <th></th>\n",
       "      <th></th>\n",
       "      <th></th>\n",
       "      <th></th>\n",
       "      <th></th>\n",
       "    </tr>\n",
       "  </thead>\n",
       "  <tbody>\n",
       "    <tr>\n",
       "      <th>2016-07-05</th>\n",
       "      <td>안원준</td>\n",
       "      <td>male</td>\n",
       "      <td>010-2292-6251</td>\n",
       "      <td>31세</td>\n",
       "      <td>78.0</td>\n",
       "      <td>68.0</td>\n",
       "      <td>176</td>\n",
       "      <td>2016-07-05</td>\n",
       "      <td>2016-07-05</td>\n",
       "      <td>아니오</td>\n",
       "      <td>4</td>\n",
       "      <td>NaN</td>\n",
       "      <td>아니요</td>\n",
       "      <td>10.0</td>\n",
       "      <td>1</td>\n",
       "      <td>confirmed</td>\n",
       "      <td>False</td>\n",
       "    </tr>\n",
       "    <tr>\n",
       "      <th>2016-10-02</th>\n",
       "      <td>유세아</td>\n",
       "      <td>female</td>\n",
       "      <td>010-4579-5881</td>\n",
       "      <td>39</td>\n",
       "      <td>56.0</td>\n",
       "      <td>51.0</td>\n",
       "      <td>172</td>\n",
       "      <td>2016-10-02</td>\n",
       "      <td>2016-11-29</td>\n",
       "      <td>예</td>\n",
       "      <td>1</td>\n",
       "      <td>NaN</td>\n",
       "      <td>아니요</td>\n",
       "      <td>5.0</td>\n",
       "      <td>1</td>\n",
       "      <td>confirmed</td>\n",
       "      <td>False</td>\n",
       "    </tr>\n",
       "    <tr>\n",
       "      <th>2017-09-06</th>\n",
       "      <td>송솔은</td>\n",
       "      <td>female</td>\n",
       "      <td>010-7719-8346</td>\n",
       "      <td>NaN</td>\n",
       "      <td>NaN</td>\n",
       "      <td>NaN</td>\n",
       "      <td>167</td>\n",
       "      <td>2017-09-06</td>\n",
       "      <td>2017-09-06</td>\n",
       "      <td>예</td>\n",
       "      <td>4</td>\n",
       "      <td>NaN</td>\n",
       "      <td>아니요</td>\n",
       "      <td>NaN</td>\n",
       "      <td>1</td>\n",
       "      <td>confirmed</td>\n",
       "      <td>False</td>\n",
       "    </tr>\n",
       "    <tr>\n",
       "      <th>2017-06-02</th>\n",
       "      <td>백서원</td>\n",
       "      <td>female</td>\n",
       "      <td>010-1194-7169</td>\n",
       "      <td>36</td>\n",
       "      <td>67.0</td>\n",
       "      <td>65.0</td>\n",
       "      <td>0</td>\n",
       "      <td>2017-06-02</td>\n",
       "      <td>2017-07-28</td>\n",
       "      <td>예</td>\n",
       "      <td>0</td>\n",
       "      <td>NaN</td>\n",
       "      <td>아니요</td>\n",
       "      <td>2.0</td>\n",
       "      <td>1</td>\n",
       "      <td>confirmed</td>\n",
       "      <td>False</td>\n",
       "    </tr>\n",
       "    <tr>\n",
       "      <th>2017-05-07</th>\n",
       "      <td>박서은</td>\n",
       "      <td>female</td>\n",
       "      <td>010-2575-6398</td>\n",
       "      <td>42</td>\n",
       "      <td>60.0</td>\n",
       "      <td>57.0</td>\n",
       "      <td>167</td>\n",
       "      <td>2017-05-07</td>\n",
       "      <td>2017-05-07</td>\n",
       "      <td>아니오</td>\n",
       "      <td>0</td>\n",
       "      <td>NaN</td>\n",
       "      <td>예</td>\n",
       "      <td>3.0</td>\n",
       "      <td>1</td>\n",
       "      <td>counselling</td>\n",
       "      <td>True</td>\n",
       "    </tr>\n",
       "  </tbody>\n",
       "</table>\n",
       "</div>"
      ],
      "text/plain": [
       "           Name  Gender   Phone Number  Age  Current Weight  Goal Weight  \\\n",
       "Joined At                                                                  \n",
       "2016-07-05  안원준    male  010-2292-6251  31세            78.0         68.0   \n",
       "2016-10-02  유세아  female  010-4579-5881   39            56.0         51.0   \n",
       "2017-09-06  송솔은  female  010-7719-8346  NaN             NaN          NaN   \n",
       "2017-06-02  백서원  female  010-1194-7169   36            67.0         65.0   \n",
       "2017-05-07  박서은  female  010-2575-6398   42            60.0         57.0   \n",
       "\n",
       "            Height  Joined At Updated At Smoking  Drinking  Paid Plan  \\\n",
       "Joined At                                                               \n",
       "2016-07-05     176 2016-07-05 2016-07-05     아니오         4        NaN   \n",
       "2016-10-02     172 2016-10-02 2016-11-29       예         1        NaN   \n",
       "2017-09-06     167 2017-09-06 2017-09-06       예         4        NaN   \n",
       "2017-06-02       0 2017-06-02 2017-07-28       예         0        NaN   \n",
       "2017-05-07     167 2017-05-07 2017-05-07     아니오         0        NaN   \n",
       "\n",
       "           Request Counselling  Diet Goal  One       Result    VIP  \n",
       "Joined At                                                           \n",
       "2016-07-05                 아니요       10.0    1    confirmed  False  \n",
       "2016-10-02                 아니요        5.0    1    confirmed  False  \n",
       "2017-09-06                 아니요        NaN    1    confirmed  False  \n",
       "2017-06-02                 아니요        2.0    1    confirmed  False  \n",
       "2017-05-07                   예        3.0    1  counselling   True  "
      ]
     },
     "execution_count": 210,
     "metadata": {},
     "output_type": "execute_result"
    }
   ],
   "source": [
    "tmp.head()"
   ]
  }
 ],
 "metadata": {
  "kernelspec": {
   "display_name": "Python 3",
   "language": "python",
   "name": "python3"
  },
  "language_info": {
   "codemirror_mode": {
    "name": "ipython",
    "version": 3
   },
   "file_extension": ".py",
   "mimetype": "text/x-python",
   "name": "python",
   "nbconvert_exporter": "python",
   "pygments_lexer": "ipython3",
   "version": "3.6.4"
  }
 },
 "nbformat": 4,
 "nbformat_minor": 2
}
